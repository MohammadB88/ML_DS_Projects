{
 "cells": [
  {
   "cell_type": "markdown",
   "metadata": {},
   "source": [
    "<a id='TOC'></a>\n",
    "\n",
    "## TOC:\n",
    "\n",
    "* [Data Preparation, Analysis, and Visualizations](#Data_Exploration)\n",
    "* [Model (with DropOuts - with Scaling) Training](#model_DropOuts_Scaling)\n",
    "* [Model (add Data Augmentation) Training](#DataAugmentation)\n",
    "* [Model (add Batch Normalization) Training](#BatchNormalization)\n",
    "* [Model Analysis (Metrices)](#metrices)\n",
    "* [Model Analysis (add Data Augmentation) (Metrices)](#metricesAugmentation)\n",
    "* [Model Analysis (add Batch Normalization) (Metrices)](#metricesBatchNormalization)"
   ]
  },
  {
   "cell_type": "code",
   "execution_count": 1,
   "metadata": {},
   "outputs": [],
   "source": [
    "import numpy as np\n",
    "import pandas as pd\n",
    "\n",
    "import seaborn as sns\n",
    "import matplotlib.pyplot as plt\n",
    "%matplotlib inline\n",
    "\n",
    "import tensorflow as tf\n",
    "\n",
    "# load the required modules to use the Functional API approach\n",
    "from tensorflow.keras.layers import Input, Dense, Flatten, Conv2D, Dropout\n",
    "from tensorflow.keras.models import Model"
   ]
  },
  {
   "cell_type": "markdown",
   "metadata": {},
   "source": [
    "<a id='Data_Exploration'></a>"
   ]
  },
  {
   "cell_type": "code",
   "execution_count": 2,
   "metadata": {},
   "outputs": [],
   "source": [
    "# read in the CIFAR-10 dataset from keras repository\n",
    "CIFAR10 = tf.keras.datasets.cifar10\n",
    "(X_train, y_train), (X_test, y_test) = CIFAR10.load_data()"
   ]
  },
  {
   "cell_type": "code",
   "execution_count": 3,
   "metadata": {},
   "outputs": [
    {
     "name": "stdout",
     "output_type": "stream",
     "text": [
      "(50000, 32, 32, 3) (50000, 1) (10000, 1) (10000, 32, 32, 3)\n"
     ]
    }
   ],
   "source": [
    "print(np.shape(X_train), np.shape(y_train), np.shape(y_test), np.shape(X_test))"
   ]
  },
  {
   "cell_type": "code",
   "execution_count": 4,
   "metadata": {},
   "outputs": [
    {
     "data": {
      "text/plain": [
       "<matplotlib.image.AxesImage at 0x7f7c18cb2160>"
      ]
     },
     "execution_count": 4,
     "metadata": {},
     "output_type": "execute_result"
    },
    {
     "data": {
      "image/png": "[encoded data removed]",
      "text/plain": [
       "<Figure size 432x288 with 1 Axes>"
      ]
     },
     "metadata": {
      "needs_background": "light"
     },
     "output_type": "display_data"
    }
   ],
   "source": [
    "plt.imshow(X_train[0])"
   ]
  },
  {
   "cell_type": "code",
   "execution_count": 5,
   "metadata": {},
   "outputs": [
    {
     "data": {
      "text/plain": [
       "<matplotlib.image.AxesImage at 0x7f7c18c28908>"
      ]
     },
     "execution_count": 5,
     "metadata": {},
     "output_type": "execute_result"
    },
    {
     "data": {
      "image/png": "[encoded data removed]",
      "text/plain": [
       "<Figure size 432x288 with 1 Axes>"
      ]
     },
     "metadata": {
      "needs_background": "light"
     },
     "output_type": "display_data"
    }
   ],
   "source": [
    "plt.imshow(X_test[0])"
   ]
  },
  {
   "cell_type": "code",
   "execution_count": 6,
   "metadata": {},
   "outputs": [],
   "source": [
    "# rescale the color range from [0, 255] to [0, 1]\n",
    "X_train = X_train/255\n",
    "X_test = X_test/255"
   ]
  },
  {
   "cell_type": "code",
   "execution_count": 7,
   "metadata": {},
   "outputs": [],
   "source": [
    "# in order for the model to read the labels, they have to be flatten\n",
    "y_train = y_train.flatten()\n",
    "y_test = y_test.flatten()"
   ]
  },
  {
   "cell_type": "code",
   "execution_count": 8,
   "metadata": {},
   "outputs": [
    {
     "name": "stdout",
     "output_type": "stream",
     "text": [
      "Number of classes: 10\n"
     ]
    }
   ],
   "source": [
    "# read in the number of classes for classification (last layer)\n",
    "cls = len(set(y_test.flatten()))\n",
    "print('Number of classes: {}'.format(cls))"
   ]
  },
  {
   "cell_type": "code",
   "execution_count": 10,
   "metadata": {},
   "outputs": [
    {
     "name": "stdout",
     "output_type": "stream",
     "text": [
      "(50000, 32, 32, 3) (50000,) (10000,) (10000, 32, 32, 3)\n"
     ]
    }
   ],
   "source": [
    "print(np.shape(X_train), np.shape(y_train), np.shape(y_test), np.shape(X_test))"
   ]
  },
  {
   "cell_type": "code",
   "execution_count": 25,
   "metadata": {},
   "outputs": [],
   "source": [
    "# make the model using the Functional API approach\n",
    "# In the first LAYER => Input needs the shape of A SINGLE FIGURE\n",
    "# in this case np.shape(X_train[0]) = (32, 32, 3)\n",
    "i = Input(shape=np.shape(X_train[0]))\n",
    "x = Conv2D(32, (3, 3), strides=2, activation='relu')(i)\n",
    "x = Conv2D(64, (3, 3), strides=2, activation='relu')(x)\n",
    "x = Conv2D(128, (3, 3), strides=2, activation='relu')(x)\n",
    "x = Flatten()(x)\n",
    "x = Dropout(0.5)(x)\n",
    "x = Dense(512, activation='relu')(x)\n",
    "x = Dropout(0.2)(x)\n",
    "x = Dense(cls, activation='softmax')(x)"
   ]
  },
  {
   "cell_type": "code",
   "execution_count": 26,
   "metadata": {},
   "outputs": [],
   "source": [
    "# make the model\n",
    "model = Model(i, x)"
   ]
  },
  {
   "cell_type": "code",
   "execution_count": 27,
   "metadata": {},
   "outputs": [],
   "source": [
    "# compile the model\n",
    "model.compile(optimizer='adam', \n",
    "              loss='sparse_categorical_crossentropy', \n",
    "              metrics=['accuracy'])"
   ]
  },
  {
   "cell_type": "code",
   "execution_count": 28,
   "metadata": {},
   "outputs": [
    {
     "name": "stdout",
     "output_type": "stream",
     "text": [
      "Train on 10000 samples, validate on 2000 samples\n",
      "Epoch 1/20\n",
      "10000/10000 [==============================] - 4s 447us/sample - loss: 1.9846 - accuracy: 0.2622 - val_loss: 1.7498 - val_accuracy: 0.3765\n",
      "Epoch 2/20\n",
      "10000/10000 [==============================] - 4s 396us/sample - loss: 1.6498 - accuracy: 0.3980 - val_loss: 1.6012 - val_accuracy: 0.4165\n",
      "Epoch 3/20\n",
      "10000/10000 [==============================] - 4s 402us/sample - loss: 1.5347 - accuracy: 0.4412 - val_loss: 1.4776 - val_accuracy: 0.4530\n",
      "Epoch 4/20\n",
      "10000/10000 [==============================] - 4s 353us/sample - loss: 1.4460 - accuracy: 0.4742 - val_loss: 1.3867 - val_accuracy: 0.5030\n",
      "Epoch 5/20\n",
      "10000/10000 [==============================] - 4s 412us/sample - loss: 1.3760 - accuracy: 0.4981 - val_loss: 1.4032 - val_accuracy: 0.5105\n",
      "Epoch 6/20\n",
      "10000/10000 [==============================] - 4s 368us/sample - loss: 1.3145 - accuracy: 0.5261 - val_loss: 1.3146 - val_accuracy: 0.5280\n",
      "Epoch 7/20\n",
      "10000/10000 [==============================] - 4s 391us/sample - loss: 1.2821 - accuracy: 0.5373 - val_loss: 1.3038 - val_accuracy: 0.5310\n",
      "Epoch 8/20\n",
      "10000/10000 [==============================] - 4s 405us/sample - loss: 1.2024 - accuracy: 0.5640 - val_loss: 1.3036 - val_accuracy: 0.5330\n",
      "Epoch 9/20\n",
      "10000/10000 [==============================] - 4s 411us/sample - loss: 1.1536 - accuracy: 0.5803 - val_loss: 1.2244 - val_accuracy: 0.5620\n",
      "Epoch 10/20\n",
      "10000/10000 [==============================] - 5s 520us/sample - loss: 1.1104 - accuracy: 0.6005 - val_loss: 1.2326 - val_accuracy: 0.5720\n",
      "Epoch 11/20\n",
      "10000/10000 [==============================] - 10s 993us/sample - loss: 1.0551 - accuracy: 0.6184 - val_loss: 1.2042 - val_accuracy: 0.5700\n",
      "Epoch 12/20\n",
      "10000/10000 [==============================] - 10s 953us/sample - loss: 1.0296 - accuracy: 0.6296 - val_loss: 1.2913 - val_accuracy: 0.5615\n",
      "Epoch 13/20\n",
      "10000/10000 [==============================] - 10s 1ms/sample - loss: 0.9919 - accuracy: 0.6383 - val_loss: 1.1599 - val_accuracy: 0.5905\n",
      "Epoch 14/20\n",
      "10000/10000 [==============================] - 9s 938us/sample - loss: 0.9261 - accuracy: 0.6683 - val_loss: 1.2824 - val_accuracy: 0.5680\n",
      "Epoch 15/20\n",
      "10000/10000 [==============================] - 9s 896us/sample - loss: 0.8991 - accuracy: 0.6778 - val_loss: 1.1729 - val_accuracy: 0.5850\n",
      "Epoch 16/20\n",
      "10000/10000 [==============================] - 8s 829us/sample - loss: 0.8538 - accuracy: 0.6939 - val_loss: 1.1916 - val_accuracy: 0.5850\n",
      "Epoch 17/20\n",
      "10000/10000 [==============================] - 9s 898us/sample - loss: 0.8038 - accuracy: 0.7148 - val_loss: 1.1564 - val_accuracy: 0.6030\n",
      "Epoch 18/20\n",
      "10000/10000 [==============================] - 11s 1ms/sample - loss: 0.7799 - accuracy: 0.7226 - val_loss: 1.1894 - val_accuracy: 0.5995\n",
      "Epoch 19/20\n",
      "10000/10000 [==============================] - 10s 965us/sample - loss: 0.7541 - accuracy: 0.7303 - val_loss: 1.1562 - val_accuracy: 0.6025\n",
      "Epoch 20/20\n",
      "10000/10000 [==============================] - 8s 792us/sample - loss: 0.7043 - accuracy: 0.7435 - val_loss: 1.1440 - val_accuracy: 0.6195\n"
     ]
    },
    {
     "data": {
      "text/plain": [
       "<tensorflow.python.keras.callbacks.History at 0x7f7b78e16898>"
      ]
     },
     "execution_count": 28,
     "metadata": {},
     "output_type": "execute_result"
    }
   ],
   "source": [
    "# fit the model to the training data\n",
    "# and validate the model against validation data\n",
    "# batchsize = number of batches for each SGD step in the training\n",
    "model.fit(X_train[:10000], y_train[:10000], \n",
    "          validation_data=(X_test[:2000], y_test[:2000]), \n",
    "          epochs=20, \n",
    "          batch_size=128)"
   ]
  },
  {
   "cell_type": "code",
   "execution_count": 29,
   "metadata": {},
   "outputs": [
    {
     "data": {
      "text/plain": [
       "<matplotlib.legend.Legend at 0x7f7b78d95f98>"
      ]
     },
     "execution_count": 29,
     "metadata": {},
     "output_type": "execute_result"
    },
    {
     "data": {
      "image/png": "[encoded data removed]",
      "text/plain": [
       "<Figure size 432x288 with 1 Axes>"
      ]
     },
     "metadata": {
      "needs_background": "light"
     },
     "output_type": "display_data"
    }
   ],
   "source": [
    "# plot the loss and validation loss to observe the model performance\n",
    "plt.plot(model.history.history['loss'], label='loss')\n",
    "plt.plot(model.history.history['val_loss'], label='validation loss')\n",
    "plt.legend()"
   ]
  },
  {
   "cell_type": "code",
   "execution_count": 30,
   "metadata": {},
   "outputs": [
    {
     "data": {
      "text/plain": [
       "<matplotlib.legend.Legend at 0x7f7b78540f98>"
      ]
     },
     "execution_count": 30,
     "metadata": {},
     "output_type": "execute_result"
    },
    {
     "data": {
      "image/png": "[encoded data removed]",
      "text/plain": [
       "<Figure size 432x288 with 1 Axes>"
      ]
     },
     "metadata": {
      "needs_background": "light"
     },
     "output_type": "display_data"
    }
   ],
   "source": [
    "# plot the accuracy on Train and Test to observe the model performance\n",
    "plt.plot(model.history.history['accuracy'], label='accuracy')\n",
    "plt.plot(model.history.history['val_accuracy'], \n",
    "         label='validation accuracy')\n",
    "plt.legend()"
   ]
  },
  {
   "cell_type": "code",
   "execution_count": null,
   "metadata": {},
   "outputs": [],
   "source": []
  },
  {
   "cell_type": "code",
   "execution_count": 31,
   "metadata": {},
   "outputs": [
    {
     "name": "stdout",
     "output_type": "stream",
     "text": [
      "[0.00300641 0.01430029 0.06646418 0.33525616 0.00566723 0.47731566\n",
      " 0.09012265 0.00288715 0.00435211 0.00062818]\n",
      "5\n",
      "[[664  29  55  18  17   8  19  18 124  48]\n",
      " [ 28 719  12  11   4   3  14   4  38 167]\n",
      " [ 69  11 468  73  75  99  95  56  29  25]\n",
      " [ 35  13  98 361  47 219 110  56  21  40]\n",
      " [ 43  13 135  56 435  58 115 117  16  12]\n",
      " [ 21   6  64 161  40 523  69  78  18  20]\n",
      " [ 11  14  44  64  40  24 745  21   9  28]\n",
      " [ 22   9  33  42  58  84  18 685   9  40]\n",
      " [100  66  16  15   6  12  13  13 702  57]\n",
      " [ 48 127   9   9   5  13  25  18  33 713]]\n"
     ]
    },
    {
     "data": {
      "image/png": "[encoded data removed]",
      "text/plain": [
       "<Figure size 720x504 with 2 Axes>"
      ]
     },
     "metadata": {
      "needs_background": "light"
     },
     "output_type": "display_data"
    }
   ],
   "source": [
    "# \n",
    "\n",
    "from sklearn.metrics import confusion_matrix\n",
    "import itertools\n",
    "\n",
    "def my_confusion_matrix(con_mat, cls, title='Confusion Matrix', cmap=plt.cm.Blues):\n",
    "    \"\"\"\n",
    "    This Function shows the confusion matrix in a nice format and color.\n",
    "        \n",
    "    return:\n",
    "        It returns nothing and only plot the matrix in a nice format.\n",
    "    \"\"\"\n",
    "    \n",
    "    #print(con_mat)\n",
    "    \n",
    "    plt.figure(figsize=(10,7))\n",
    "    plt.imshow(con_mat, interpolation='nearest', cmap=cmap)\n",
    "    plt.title(title)\n",
    "    plt.colorbar()\n",
    "    \n",
    "    plt.xticks(np.arange(10))\n",
    "    plt.yticks(np.arange(10))\n",
    "    \n",
    "    plt.xlabel('predicted number')\n",
    "    plt.ylabel('actual number')\n",
    "    \n",
    "    #print(range(con_mat.shape[0], con_mat.shape[1]))\n",
    "    for i, j in itertools.product(range(con_mat.shape[0]), range(con_mat.shape[1])):\n",
    "        #print(con_mat[i,j])\n",
    "        plt.text(j, i, con_mat[i,j], \n",
    "                 horizontalalignment='center', \n",
    "                 color='white' if  i==j else 'black')\n",
    "    \n",
    "    plt.tight_layout()\n",
    "    plt.show()\n",
    "    \n",
    "pred = model.predict(X_test)\n",
    "print(pred[0])\n",
    "\n",
    "pred_arg = pred.argmax(axis=1)\n",
    "print(pred_arg[0])\n",
    "\n",
    "con_mat = confusion_matrix(y_test, pred_arg)\n",
    "print(con_mat)\n",
    "\n",
    "my_confusion_matrix(con_mat, list(range(10)))"
   ]
  },
  {
   "cell_type": "markdown",
   "metadata": {},
   "source": [
    "<a id='DataAugmentation'></a>\n",
    "Add the Data Augmentation to improve the model."
   ]
  },
  {
   "cell_type": "code",
   "execution_count": null,
   "metadata": {},
   "outputs": [],
   "source": []
  },
  {
   "cell_type": "code",
   "execution_count": null,
   "metadata": {},
   "outputs": [],
   "source": []
  },
  {
   "cell_type": "code",
   "execution_count": null,
   "metadata": {},
   "outputs": [],
   "source": [
    "# plot the loss and validation loss to observe the model performance\n",
    "plt.plot(model.history.history['loss'], label='loss')\n",
    "plt.plot(model.history.history['val_loss'], label='validation loss')\n",
    "plt.legend()"
   ]
  },
  {
   "cell_type": "code",
   "execution_count": null,
   "metadata": {},
   "outputs": [],
   "source": [
    "# plot the accuracy on Train and Test to observe the model performance\n",
    "plt.plot(model.history.history['accuracy'], label='accuracy')\n",
    "plt.plot(model.history.history['val_accuracy'], \n",
    "         label='validation accuracy')\n",
    "plt.legend()"
   ]
  },
  {
   "cell_type": "markdown",
   "metadata": {},
   "source": [
    "<a id='metricesAugmentation'></a>"
   ]
  },
  {
   "cell_type": "code",
   "execution_count": null,
   "metadata": {},
   "outputs": [],
   "source": [
    "# \n",
    "\n",
    "from sklearn.metrics import confusion_matrix\n",
    "import itertools\n",
    "\n",
    "def my_confusion_matrix(con_mat, cls, title='Confusion Matrix', cmap=plt.cm.Blues):\n",
    "    \"\"\"\n",
    "    This Function shows the confusion matrix in a nice format and color.\n",
    "        \n",
    "    return:\n",
    "        It returns nothing and only plot the matrix in a nice format.\n",
    "    \"\"\"\n",
    "    \n",
    "    #print(con_mat)\n",
    "    \n",
    "    plt.figure(figsize=(10,7))\n",
    "    plt.imshow(con_mat, interpolation='nearest', cmap=cmap)\n",
    "    plt.title(title)\n",
    "    plt.colorbar()\n",
    "    \n",
    "    plt.xticks(np.arange(10))\n",
    "    plt.yticks(np.arange(10))\n",
    "    \n",
    "    plt.xlabel('predicted number')\n",
    "    plt.ylabel('actual number')\n",
    "    \n",
    "    #print(range(con_mat.shape[0], con_mat.shape[1]))\n",
    "    for i, j in itertools.product(range(con_mat.shape[0]), range(con_mat.shape[1])):\n",
    "        #print(con_mat[i,j])\n",
    "        plt.text(j, i, con_mat[i,j], \n",
    "                 horizontalalignment='center', \n",
    "                 color='white' if  i==j else 'black')\n",
    "    \n",
    "    plt.tight_layout()\n",
    "    plt.show()\n",
    "    \n",
    "pred = model.predict(X_test)\n",
    "print(pred[0])\n",
    "\n",
    "pred_arg = pred.argmax(axis=1)\n",
    "print(pred_arg[0])\n",
    "\n",
    "con_mat = confusion_matrix(y_test, pred_arg)\n",
    "print(con_mat)\n",
    "\n",
    "my_confusion_matrix(con_mat, list(range(10)))"
   ]
  },
  {
   "cell_type": "markdown",
   "metadata": {},
   "source": [
    "<a id='BatchNormalization'></a>\n",
    "Add the Batch Normalization to improve the model."
   ]
  },
  {
   "cell_type": "code",
   "execution_count": null,
   "metadata": {},
   "outputs": [],
   "source": []
  },
  {
   "cell_type": "code",
   "execution_count": null,
   "metadata": {},
   "outputs": [],
   "source": [
    "# plot the loss and validation loss to observe the model performance\n",
    "plt.plot(model.history.history['loss'], label='loss')\n",
    "plt.plot(model.history.history['val_loss'], label='validation loss')\n",
    "plt.legend()"
   ]
  },
  {
   "cell_type": "code",
   "execution_count": null,
   "metadata": {},
   "outputs": [],
   "source": [
    "# plot the accuracy on Train and Test to observe the model performance\n",
    "plt.plot(model.history.history['accuracy'], label='accuracy')\n",
    "plt.plot(model.history.history['val_accuracy'], \n",
    "         label='validation accuracy')\n",
    "plt.legend()"
   ]
  },
  {
   "cell_type": "code",
   "execution_count": null,
   "metadata": {},
   "outputs": [],
   "source": []
  },
  {
   "cell_type": "markdown",
   "metadata": {},
   "source": [
    "<a id='metricesBatchNormalization'></a>"
   ]
  },
  {
   "cell_type": "code",
   "execution_count": null,
   "metadata": {},
   "outputs": [],
   "source": [
    "# \n",
    "\n",
    "from sklearn.metrics import confusion_matrix\n",
    "import itertools\n",
    "\n",
    "def my_confusion_matrix(con_mat, cls, title='Confusion Matrix', cmap=plt.cm.Blues):\n",
    "    \"\"\"\n",
    "    This Function shows the confusion matrix in a nice format and color.\n",
    "        \n",
    "    return:\n",
    "        It returns nothing and only plot the matrix in a nice format.\n",
    "    \"\"\"\n",
    "    \n",
    "    #print(con_mat)\n",
    "    \n",
    "    plt.figure(figsize=(10,7))\n",
    "    plt.imshow(con_mat, interpolation='nearest', cmap=cmap)\n",
    "    plt.title(title)\n",
    "    plt.colorbar()\n",
    "    \n",
    "    plt.xticks(np.arange(10))\n",
    "    plt.yticks(np.arange(10))\n",
    "    \n",
    "    plt.xlabel('predicted number')\n",
    "    plt.ylabel('actual number')\n",
    "    \n",
    "    #print(range(con_mat.shape[0], con_mat.shape[1]))\n",
    "    for i, j in itertools.product(range(con_mat.shape[0]), range(con_mat.shape[1])):\n",
    "        #print(con_mat[i,j])\n",
    "        plt.text(j, i, con_mat[i,j], \n",
    "                 horizontalalignment='center', \n",
    "                 color='white' if  i==j else 'black')\n",
    "    \n",
    "    plt.tight_layout()\n",
    "    plt.show()\n",
    "    \n",
    "pred = model.predict(X_test)\n",
    "print(pred[0])\n",
    "\n",
    "pred_arg = pred.argmax(axis=1)\n",
    "print(pred_arg[0])\n",
    "\n",
    "con_mat = confusion_matrix(y_test, pred_arg)\n",
    "print(con_mat)\n",
    "\n",
    "my_confusion_matrix(con_mat, list(range(10)))"
   ]
  }
 ],
 "metadata": {
  "kernelspec": {
   "display_name": "tensorflow",
   "language": "python",
   "name": "tensorflow"
  },
  "language_info": {
   "codemirror_mode": {
    "name": "ipython",
    "version": 3
   },
   "file_extension": ".py",
   "mimetype": "text/x-python",
   "name": "python",
   "nbconvert_exporter": "python",
   "pygments_lexer": "ipython3",
   "version": "3.5.2"
  },
  "toc": {
   "base_numbering": 1,
   "nav_menu": {},
   "number_sections": true,
   "sideBar": true,
   "skip_h1_title": false,
   "title_cell": "Table of Contents",
   "title_sidebar": "Contents",
   "toc_cell": false,
   "toc_position": {},
   "toc_section_display": true,
   "toc_window_display": false
  }
 },
 "nbformat": 4,
 "nbformat_minor": 4
}
