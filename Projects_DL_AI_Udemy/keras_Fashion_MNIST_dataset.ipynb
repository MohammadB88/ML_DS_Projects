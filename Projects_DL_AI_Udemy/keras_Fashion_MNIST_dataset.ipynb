{
 "cells": [
  {
   "cell_type": "markdown",
   "metadata": {},
   "source": [
    "<a id='TOC'></a>\n",
    "\n",
    "## TOC:\n",
    "\n",
    "* [Data Preparation, Analysis, and Visualizations](#Data_Exploration)\n",
    "* [Model (no DropOuts - no Scaling) Training](#model_simple)\n",
    "* [Model (with DropOuts - no Scaling) Training](#model_DropOuts)\n",
    "* [Model (no DropOuts - with Scaling) Training](#model_Scaling)\n",
    "* [Model (with DropOuts - with Scaling) Training](#model_DropOuts_Scaling)\n",
    "* [Model Analysis (Metrices)](#metrices)"
   ]
  },
  {
   "cell_type": "code",
   "execution_count": 16,
   "metadata": {},
   "outputs": [],
   "source": [
    "import numpy as np\n",
    "import pandas as pd\n",
    "\n",
    "import seaborn as sns\n",
    "import matplotlib.pyplot as plt\n",
    "%matplotlib inline\n",
    "\n",
    "import tensorflow as tf"
   ]
  },
  {
   "cell_type": "markdown",
   "metadata": {},
   "source": [
    "<a id='Data_Exploration'></a>"
   ]
  },
  {
   "cell_type": "code",
   "execution_count": 8,
   "metadata": {},
   "outputs": [],
   "source": [
    "Fashion_MNIST = tf.keras.datasets.fashion_mnist\n",
    "(X_train, y_train), (X_test, y_test) = Fashion_MNIST.load_data()"
   ]
  },
  {
   "cell_type": "code",
   "execution_count": 50,
   "metadata": {},
   "outputs": [
    {
     "name": "stdout",
     "output_type": "stream",
     "text": [
      "(60000, 28, 28, 1) (10000, 28, 28, 1)\n"
     ]
    }
   ],
   "source": [
    "print(np.shape(X_train), np.shape(X_test))"
   ]
  },
  {
   "cell_type": "code",
   "execution_count": 54,
   "metadata": {},
   "outputs": [
    {
     "data": {
      "text/plain": [
       "(28, 28, 1)"
      ]
     },
     "execution_count": 54,
     "metadata": {},
     "output_type": "execute_result"
    }
   ],
   "source": [
    "np.shape(X_train[0])"
   ]
  },
  {
   "cell_type": "code",
   "execution_count": 12,
   "metadata": {},
   "outputs": [
    {
     "data": {
      "text/plain": [
       "<matplotlib.image.AxesImage at 0x7fce38a68358>"
      ]
     },
     "execution_count": 12,
     "metadata": {},
     "output_type": "execute_result"
    },
    {
     "data": {
      "image/png": "[encoded data removed]",
      "text/plain": [
       "<Figure size 432x288 with 1 Axes>"
      ]
     },
     "metadata": {
      "needs_background": "light"
     },
     "output_type": "display_data"
    }
   ],
   "source": [
    "plt.imshow(X_train[0], cmap='gray')"
   ]
  },
  {
   "cell_type": "code",
   "execution_count": 13,
   "metadata": {},
   "outputs": [
    {
     "data": {
      "text/plain": [
       "<matplotlib.image.AxesImage at 0x7fce3aadf588>"
      ]
     },
     "execution_count": 13,
     "metadata": {},
     "output_type": "execute_result"
    },
    {
     "data": {
      "image/png": "[encoded data removed]",
      "text/plain": [
       "<Figure size 432x288 with 1 Axes>"
      ]
     },
     "metadata": {
      "needs_background": "light"
     },
     "output_type": "display_data"
    }
   ],
   "source": [
    "plt.imshow(X_test[0], cmap='gray')"
   ]
  },
  {
   "cell_type": "code",
   "execution_count": null,
   "metadata": {},
   "outputs": [],
   "source": []
  },
  {
   "cell_type": "markdown",
   "metadata": {},
   "source": [
    "<a id='#model_simple'></a>"
   ]
  },
  {
   "cell_type": "code",
   "execution_count": 20,
   "metadata": {},
   "outputs": [],
   "source": [
    "from tensorflow.keras.layers import Input, Conv2D, Dense, Dropout, Flatten\n",
    "from tensorflow.keras.models import Model"
   ]
  },
  {
   "cell_type": "code",
   "execution_count": 22,
   "metadata": {},
   "outputs": [
    {
     "name": "stdout",
     "output_type": "stream",
     "text": [
      "10\n"
     ]
    }
   ],
   "source": [
    "# read in the number of classes\n",
    "cls_num = len(set(y_train))\n",
    "print(cls_num)"
   ]
  },
  {
   "cell_type": "code",
   "execution_count": 23,
   "metadata": {},
   "outputs": [],
   "source": [
    "# To make the input valid for Functional API approach, the shape of X_train/test must be expanded\n",
    "X_train = np.expand_dims(X_train, -1)\n",
    "X_test = np.expand_dims(X_test, -1)"
   ]
  },
  {
   "cell_type": "code",
   "execution_count": 35,
   "metadata": {},
   "outputs": [],
   "source": [
    "# creating the model using the approach called \"Functional API\"\n",
    "i = Input(shape=np.shape(X_train[0]))\n",
    "x = Conv2D(32, (3, 3), strides=2, padding='same', activation='relu')(i)\n",
    "x = Conv2D(64, (3, 3), strides=2, padding='same', activation='relu')(x)\n",
    "x = Conv2D(128, (3, 3), strides=2, padding='same', activation='relu')(x)\n",
    "x = Flatten()(x)\n",
    "x = Dense(512, activation='relu')(x)\n",
    "x = Dense(cls_num, activation='softmax')(x)"
   ]
  },
  {
   "cell_type": "code",
   "execution_count": 36,
   "metadata": {},
   "outputs": [],
   "source": [
    "model = Model(i, x)"
   ]
  },
  {
   "cell_type": "code",
   "execution_count": 37,
   "metadata": {},
   "outputs": [],
   "source": [
    "model.compile(optimizer='Adam', \n",
    "              loss='sparse_categorical_crossentropy', \n",
    "              metrics=['accuracy'])"
   ]
  },
  {
   "cell_type": "code",
   "execution_count": 38,
   "metadata": {},
   "outputs": [
    {
     "name": "stdout",
     "output_type": "stream",
     "text": [
      "Train on 60000 samples, validate on 10000 samples\n",
      "Epoch 1/10\n",
      "60000/60000 [==============================] - 39s 653us/sample - loss: 0.4687 - accuracy: 0.8490 - val_loss: 0.3634 - val_accuracy: 0.8701\n",
      "Epoch 2/10\n",
      "60000/60000 [==============================] - 38s 639us/sample - loss: 0.2972 - accuracy: 0.8905 - val_loss: 0.3285 - val_accuracy: 0.8872\n",
      "Epoch 3/10\n",
      "60000/60000 [==============================] - 39s 644us/sample - loss: 0.2555 - accuracy: 0.9036 - val_loss: 0.3207 - val_accuracy: 0.8810\n",
      "Epoch 4/10\n",
      "60000/60000 [==============================] - 38s 641us/sample - loss: 0.2292 - accuracy: 0.9147 - val_loss: 0.3234 - val_accuracy: 0.8933\n",
      "Epoch 5/10\n",
      "60000/60000 [==============================] - 39s 651us/sample - loss: 0.2032 - accuracy: 0.9241 - val_loss: 0.3162 - val_accuracy: 0.8952\n",
      "Epoch 6/10\n",
      "60000/60000 [==============================] - 39s 657us/sample - loss: 0.1759 - accuracy: 0.9337 - val_loss: 0.3253 - val_accuracy: 0.8961\n",
      "Epoch 7/10\n",
      "60000/60000 [==============================] - 39s 653us/sample - loss: 0.1655 - accuracy: 0.9397 - val_loss: 0.3486 - val_accuracy: 0.8955\n",
      "Epoch 8/10\n",
      "60000/60000 [==============================] - 40s 660us/sample - loss: 0.1466 - accuracy: 0.9456 - val_loss: 0.3674 - val_accuracy: 0.9011\n",
      "Epoch 9/10\n",
      "60000/60000 [==============================] - 40s 672us/sample - loss: 0.1399 - accuracy: 0.9492 - val_loss: 0.3995 - val_accuracy: 0.8994\n",
      "Epoch 10/10\n",
      "60000/60000 [==============================] - 41s 678us/sample - loss: 0.1284 - accuracy: 0.9534 - val_loss: 0.4307 - val_accuracy: 0.8976\n"
     ]
    },
    {
     "data": {
      "text/plain": [
       "<tensorflow.python.keras.callbacks.History at 0x7fce0b6f8550>"
      ]
     },
     "execution_count": 38,
     "metadata": {},
     "output_type": "execute_result"
    }
   ],
   "source": [
    "model.fit(X_train, y_train, validation_data=(X_test, y_test), epochs=10)"
   ]
  },
  {
   "cell_type": "code",
   "execution_count": 39,
   "metadata": {},
   "outputs": [
    {
     "data": {
      "text/plain": [
       "<matplotlib.legend.Legend at 0x7fce0b3c1a90>"
      ]
     },
     "execution_count": 39,
     "metadata": {},
     "output_type": "execute_result"
    },
    {
     "data": {
      "image/png": "[encoded data removed]",
      "text/plain": [
       "<Figure size 432x288 with 1 Axes>"
      ]
     },
     "metadata": {
      "needs_background": "light"
     },
     "output_type": "display_data"
    }
   ],
   "source": [
    "# plot the loss and validation loss to observe the model performance\n",
    "plt.plot(model.history.history['loss'], label='loss')\n",
    "plt.plot(model.history.history['val_loss'], label='validation loss')\n",
    "plt.legend()"
   ]
  },
  {
   "cell_type": "code",
   "execution_count": 40,
   "metadata": {},
   "outputs": [
    {
     "data": {
      "text/plain": [
       "<matplotlib.legend.Legend at 0x7fce0b3691d0>"
      ]
     },
     "execution_count": 40,
     "metadata": {},
     "output_type": "execute_result"
    },
    {
     "data": {
      "image/png": "[encoded data removed]",
      "text/plain": [
       "<Figure size 432x288 with 1 Axes>"
      ]
     },
     "metadata": {
      "needs_background": "light"
     },
     "output_type": "display_data"
    }
   ],
   "source": [
    "# plot the accuracy on Train and Test to observe the model performance\n",
    "plt.plot(model.history.history['accuracy'], label='accuracy')\n",
    "plt.plot(model.history.history['val_accuracy'], \n",
    "         label='validation accuracy')\n",
    "plt.legend()"
   ]
  },
  {
   "cell_type": "markdown",
   "metadata": {},
   "source": [
    "<a id='model_DropOuts'></a>"
   ]
  },
  {
   "cell_type": "code",
   "execution_count": 41,
   "metadata": {},
   "outputs": [],
   "source": [
    "# creating the model using the approach called \"Functional API\"\n",
    "i = Input(shape=np.shape(X_train[0]))\n",
    "x = Conv2D(32, (3, 3), strides=2, padding='same', activation='relu')(i)\n",
    "x = Conv2D(64, (3, 3), strides=2, padding='same', activation='relu')(x)\n",
    "x = Conv2D(128, (3, 3), strides=2, padding='same', activation='relu')(x)\n",
    "x = Flatten()(x)\n",
    "x = Dropout(0.2)(x)\n",
    "x = Dense(512, activation='relu')(x)\n",
    "x = Dropout(0.2)(x)\n",
    "x = Dense(cls_num, activation='softmax')(x)"
   ]
  },
  {
   "cell_type": "code",
   "execution_count": 42,
   "metadata": {},
   "outputs": [],
   "source": [
    "model_drop = Model(i, x)"
   ]
  },
  {
   "cell_type": "code",
   "execution_count": 43,
   "metadata": {},
   "outputs": [],
   "source": [
    "model_drop.compile(optimizer='Adam', \n",
    "              loss='sparse_categorical_crossentropy', \n",
    "              metrics=['accuracy'])"
   ]
  },
  {
   "cell_type": "code",
   "execution_count": 44,
   "metadata": {},
   "outputs": [
    {
     "name": "stdout",
     "output_type": "stream",
     "text": [
      "Train on 60000 samples, validate on 10000 samples\n",
      "Epoch 1/10\n",
      "60000/60000 [==============================] - 41s 687us/sample - loss: 0.4900 - accuracy: 0.8369 - val_loss: 0.3679 - val_accuracy: 0.8686\n",
      "Epoch 2/10\n",
      "60000/60000 [==============================] - 39s 651us/sample - loss: 0.3282 - accuracy: 0.8790 - val_loss: 0.3368 - val_accuracy: 0.8733\n",
      "Epoch 3/10\n",
      "60000/60000 [==============================] - 39s 653us/sample - loss: 0.2966 - accuracy: 0.8896 - val_loss: 0.3127 - val_accuracy: 0.8888\n",
      "Epoch 4/10\n",
      "60000/60000 [==============================] - 40s 665us/sample - loss: 0.2746 - accuracy: 0.8977 - val_loss: 0.3141 - val_accuracy: 0.8899\n",
      "Epoch 5/10\n",
      "60000/60000 [==============================] - 40s 663us/sample - loss: 0.2554 - accuracy: 0.9037 - val_loss: 0.3145 - val_accuracy: 0.8938\n",
      "Epoch 6/10\n",
      "60000/60000 [==============================] - 40s 673us/sample - loss: 0.2376 - accuracy: 0.9106 - val_loss: 0.3088 - val_accuracy: 0.8882\n",
      "Epoch 7/10\n",
      "60000/60000 [==============================] - 40s 672us/sample - loss: 0.2280 - accuracy: 0.9143 - val_loss: 0.3211 - val_accuracy: 0.8911\n",
      "Epoch 8/10\n",
      "60000/60000 [==============================] - 40s 674us/sample - loss: 0.2159 - accuracy: 0.9191 - val_loss: 0.3127 - val_accuracy: 0.8973\n",
      "Epoch 9/10\n",
      "60000/60000 [==============================] - 41s 679us/sample - loss: 0.2033 - accuracy: 0.9233 - val_loss: 0.3170 - val_accuracy: 0.8941\n",
      "Epoch 10/10\n",
      "60000/60000 [==============================] - 41s 677us/sample - loss: 0.1963 - accuracy: 0.9279 - val_loss: 0.3251 - val_accuracy: 0.8981\n"
     ]
    },
    {
     "data": {
      "text/plain": [
       "<tensorflow.python.keras.callbacks.History at 0x7fce0b3343c8>"
      ]
     },
     "execution_count": 44,
     "metadata": {},
     "output_type": "execute_result"
    }
   ],
   "source": [
    "model_drop.fit(X_train, y_train, validation_data=(X_test, y_test), epochs=10)"
   ]
  },
  {
   "cell_type": "code",
   "execution_count": 48,
   "metadata": {},
   "outputs": [
    {
     "data": {
      "text/plain": [
       "<matplotlib.legend.Legend at 0x7fce0b222898>"
      ]
     },
     "execution_count": 48,
     "metadata": {},
     "output_type": "execute_result"
    },
    {
     "data": {
      "image/png": "[encoded data removed]",
      "text/plain": [
       "<Figure size 432x288 with 1 Axes>"
      ]
     },
     "metadata": {
      "needs_background": "light"
     },
     "output_type": "display_data"
    }
   ],
   "source": [
    "# plot the loss and validation loss to observe the model performance\n",
    "plt.plot(model_drop.history.history['loss'], label='loss')\n",
    "plt.plot(model_drop.history.history['val_loss'], label='validation loss')\n",
    "plt.legend()"
   ]
  },
  {
   "cell_type": "code",
   "execution_count": 47,
   "metadata": {},
   "outputs": [
    {
     "data": {
      "text/plain": [
       "<matplotlib.legend.Legend at 0x7fce0b27c9e8>"
      ]
     },
     "execution_count": 47,
     "metadata": {},
     "output_type": "execute_result"
    },
    {
     "data": {
      "image/png": "[encoded data removed]",
      "text/plain": [
       "<Figure size 432x288 with 1 Axes>"
      ]
     },
     "metadata": {
      "needs_background": "light"
     },
     "output_type": "display_data"
    }
   ],
   "source": [
    "# plot the accuracy on Train and Test to observe the model performance\n",
    "plt.plot(model_drop.history.history['accuracy'], label='accuracy')\n",
    "plt.plot(model_drop.history.history['val_accuracy'], \n",
    "         label='validation accuracy')\n",
    "plt.legend()"
   ]
  },
  {
   "cell_type": "markdown",
   "metadata": {},
   "source": [
    "<a id='Data_Exploration'></a>"
   ]
  },
  {
   "cell_type": "code",
   "execution_count": null,
   "metadata": {},
   "outputs": [],
   "source": [
    "X_train = X_train/255\n",
    "X_test = X_test/255"
   ]
  },
  {
   "cell_type": "code",
   "execution_count": null,
   "metadata": {},
   "outputs": [],
   "source": []
  },
  {
   "cell_type": "code",
   "execution_count": null,
   "metadata": {},
   "outputs": [],
   "source": [
    "# \n",
    "\n",
    "from sklearn.metrics import confusion_matrix\n",
    "import itertools\n",
    "\n",
    "def my_confusion_matrix(con_mat, cls, title='Confusion Matrix', cmap=plt.cm.Blues):\n",
    "    \"\"\"\n",
    "    This Function shows the confusion matrix in a nice format and color.\n",
    "        \n",
    "    return:\n",
    "        It returns nothing and only plot the matrix in a nice format.\n",
    "    \"\"\"\n",
    "    \n",
    "    #print(con_mat)\n",
    "    \n",
    "    plt.figure(figsize=(10,7))\n",
    "    plt.imshow(con_mat, interpolation='nearest', cmap=cmap)\n",
    "    plt.title(title)\n",
    "    plt.colorbar()\n",
    "    \n",
    "    plt.xticks(np.arange(10))\n",
    "    plt.yticks(np.arange(10))\n",
    "    \n",
    "    plt.xlabel('predicted number')\n",
    "    plt.ylabel('actual number')\n",
    "    \n",
    "    #print(range(con_mat.shape[0], con_mat.shape[1]))\n",
    "    for i, j in itertools.product(range(con_mat.shape[0]), range(con_mat.shape[1])):\n",
    "        #print(con_mat[i,j])\n",
    "        plt.text(j, i, con_mat[i,j], \n",
    "                 horizontalalignment='center', \n",
    "                 color='white' if  i==j else 'black')\n",
    "    \n",
    "    plt.tight_layout()\n",
    "    plt.show()\n",
    "    \n",
    "pred = model_drop.predict(X_test)\n",
    "print(pred[0])\n",
    "\n",
    "pred_arg = pred.argmax(axis=1)\n",
    "print(pred_arg[0])\n",
    "\n",
    "con_mat = confusion_matrix(y_test, pred_arg)\n",
    "print(con_mat)\n",
    "\n",
    "my_confusion_matrix(con_mat, list(range(10)))"
   ]
  },
  {
   "cell_type": "code",
   "execution_count": null,
   "metadata": {},
   "outputs": [],
   "source": []
  }
 ],
 "metadata": {
  "kernelspec": {
   "display_name": "tensorflow",
   "language": "python",
   "name": "tensorflow"
  },
  "language_info": {
   "codemirror_mode": {
    "name": "ipython",
    "version": 3
   },
   "file_extension": ".py",
   "mimetype": "text/x-python",
   "name": "python",
   "nbconvert_exporter": "python",
   "pygments_lexer": "ipython3",
   "version": "3.5.2"
  },
  "toc": {
   "base_numbering": 1,
   "nav_menu": {},
   "number_sections": true,
   "sideBar": true,
   "skip_h1_title": false,
   "title_cell": "Table of Contents",
   "title_sidebar": "Contents",
   "toc_cell": false,
   "toc_position": {},
   "toc_section_display": true,
   "toc_window_display": false
  }
 },
 "nbformat": 4,
 "nbformat_minor": 4
}
