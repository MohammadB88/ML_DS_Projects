{
 "cells": [
  {
   "cell_type": "code",
   "execution_count": 1,
   "metadata": {},
   "outputs": [],
   "source": [
    "import numpy as np\n",
    "import pandas as pd\n",
    "import tensorflow as tf\n",
    "\n",
    "import seaborn as sns\n",
    "import matplotlib.pyplot as plt\n",
    "%matplotlib inline "
   ]
  },
  {
   "cell_type": "code",
   "execution_count": 2,
   "metadata": {},
   "outputs": [],
   "source": [
    "from sklearn.datasets import load_breast_cancer\n",
    "from sklearn.model_selection import train_test_split\n",
    "from sklearn.preprocessing import StandardScaler"
   ]
  },
  {
   "cell_type": "code",
   "execution_count": 3,
   "metadata": {},
   "outputs": [
    {
     "name": "stdout",
     "output_type": "stream",
     "text": [
      "<class 'sklearn.utils.Bunch'>\n",
      "\n",
      "############## data ###############\n",
      "\n",
      "[[1.799e+01 1.038e+01 1.228e+02 ... 2.654e-01 4.601e-01 1.189e-01]\n",
      " [2.057e+01 1.777e+01 1.329e+02 ... 1.860e-01 2.750e-01 8.902e-02]\n",
      " [1.969e+01 2.125e+01 1.300e+02 ... 2.430e-01 3.613e-01 8.758e-02]\n",
      " ...\n",
      " [1.660e+01 2.808e+01 1.083e+02 ... 1.418e-01 2.218e-01 7.820e-02]\n",
      " [2.060e+01 2.933e+01 1.401e+02 ... 2.650e-01 4.087e-01 1.240e-01]\n",
      " [7.760e+00 2.454e+01 4.792e+01 ... 0.000e+00 2.871e-01 7.039e-02]]\n",
      "\n",
      "############## feature names ###############\n",
      "\n",
      "['mean radius' 'mean texture' 'mean perimeter' 'mean area'\n",
      " 'mean smoothness' 'mean compactness' 'mean concavity'\n",
      " 'mean concave points' 'mean symmetry' 'mean fractal dimension'\n",
      " 'radius error' 'texture error' 'perimeter error' 'area error'\n",
      " 'smoothness error' 'compactness error' 'concavity error'\n",
      " 'concave points error' 'symmetry error' 'fractal dimension error'\n",
      " 'worst radius' 'worst texture' 'worst perimeter' 'worst area'\n",
      " 'worst smoothness' 'worst compactness' 'worst concavity'\n",
      " 'worst concave points' 'worst symmetry' 'worst fractal dimension']\n"
     ]
    }
   ],
   "source": [
    "data = load_breast_cancer()\n",
    "print(type(data))\n",
    "print('\\n############## data ###############\\n')\n",
    "print(data.data)\n",
    "#print(dir(data))\n",
    "print('\\n############## feature names ###############\\n')\n",
    "print(data.feature_names)"
   ]
  },
  {
   "cell_type": "code",
   "execution_count": 4,
   "metadata": {},
   "outputs": [
    {
     "name": "stdout",
     "output_type": "stream",
     "text": [
      "['target_names', 'filename', 'data', 'DESCR', 'target', 'feature_names']\n"
     ]
    }
   ],
   "source": [
    "keys_data_lst = list(data.keys())\n",
    "print(keys_data_lst)"
   ]
  },
  {
   "cell_type": "code",
   "execution_count": 5,
   "metadata": {},
   "outputs": [
    {
     "name": "stdout",
     "output_type": "stream",
     "text": [
      "[1.245e+01 1.570e+01 8.257e+01 4.771e+02 1.278e-01 1.700e-01 1.578e-01\n",
      " 8.089e-02 2.087e-01 7.613e-02 3.345e-01 8.902e-01 2.217e+00 2.719e+01\n",
      " 7.510e-03 3.345e-02 3.672e-02 1.137e-02 2.165e-02 5.082e-03 1.547e+01\n",
      " 2.375e+01 1.034e+02 7.416e+02 1.791e-01 5.249e-01 5.355e-01 1.741e-01\n",
      " 3.985e-01 1.244e-01] 0\n"
     ]
    }
   ],
   "source": [
    "X = data.data\n",
    "y = data.target\n",
    "print(X[5], y[5])"
   ]
  },
  {
   "cell_type": "code",
   "execution_count": 6,
   "metadata": {},
   "outputs": [],
   "source": [
    "X_train, X_test, y_train, y_test = train_test_split(X, y, \n",
    "                                                    train_size=0.66, \n",
    "                                                    random_state=42)"
   ]
  },
  {
   "cell_type": "code",
   "execution_count": 7,
   "metadata": {},
   "outputs": [],
   "source": [
    "# feature scaling:\n",
    "# fit and transform the X_train\n",
    "# only transform the X_test (Not exposing X_train to the X_test)\n",
    "scaler = StandardScaler()\n",
    "X_train = scaler.fit_transform(X_train)\n",
    "X_test = scaler.transform(X_test)"
   ]
  },
  {
   "cell_type": "code",
   "execution_count": 8,
   "metadata": {},
   "outputs": [],
   "source": [
    "# here we create the model for linear classification\n",
    "input_shape = np.shape(X)[1]\n",
    "model = tf.keras.Sequential()\n",
    "model.add(tf.keras.Input(shape=(input_shape,)))\n",
    "model.add(tf.keras.layers.Dense(1, activation='sigmoid'))"
   ]
  },
  {
   "cell_type": "code",
   "execution_count": 9,
   "metadata": {},
   "outputs": [],
   "source": [
    "# here we compile our model\n",
    "model.compile(optimizer='adam',\n",
    "             loss='binary_crossentropy',\n",
    "             metrics=['accuracy'])"
   ]
  },
  {
   "cell_type": "code",
   "execution_count": 10,
   "metadata": {},
   "outputs": [
    {
     "data": {
      "text/plain": [
       "(375, 30)"
      ]
     },
     "execution_count": 10,
     "metadata": {},
     "output_type": "execute_result"
    }
   ],
   "source": [
    "np.shape(X_train)"
   ]
  },
  {
   "cell_type": "code",
   "execution_count": 11,
   "metadata": {},
   "outputs": [
    {
     "name": "stdout",
     "output_type": "stream",
     "text": [
      "Train on 375 samples, validate on 194 samples\n",
      "Epoch 1/150\n",
      "375/375 [==============================] - 1s 3ms/sample - loss: 1.3267 - accuracy: 0.1280 - val_loss: 1.3028 - val_accuracy: 0.1701\n",
      "Epoch 2/150\n",
      "375/375 [==============================] - 0s 233us/sample - loss: 1.2164 - accuracy: 0.1680 - val_loss: 1.1930 - val_accuracy: 0.2320\n",
      "Epoch 3/150\n",
      "375/375 [==============================] - 0s 227us/sample - loss: 1.1135 - accuracy: 0.2133 - val_loss: 1.0924 - val_accuracy: 0.2680\n",
      "Epoch 4/150\n",
      "375/375 [==============================] - 0s 177us/sample - loss: 1.0227 - accuracy: 0.3013 - val_loss: 0.9998 - val_accuracy: 0.3196\n",
      "Epoch 5/150\n",
      "375/375 [==============================] - 0s 216us/sample - loss: 0.9336 - accuracy: 0.3680 - val_loss: 0.9209 - val_accuracy: 0.3918\n",
      "Epoch 6/150\n",
      "375/375 [==============================] - 0s 211us/sample - loss: 0.8607 - accuracy: 0.4533 - val_loss: 0.8468 - val_accuracy: 0.4433\n",
      "Epoch 7/150\n",
      "375/375 [==============================] - 0s 181us/sample - loss: 0.7922 - accuracy: 0.5333 - val_loss: 0.7821 - val_accuracy: 0.5206\n",
      "Epoch 8/150\n",
      "375/375 [==============================] - 0s 363us/sample - loss: 0.7323 - accuracy: 0.5707 - val_loss: 0.7245 - val_accuracy: 0.5773\n",
      "Epoch 9/150\n",
      "375/375 [==============================] - 0s 379us/sample - loss: 0.6786 - accuracy: 0.6053 - val_loss: 0.6743 - val_accuracy: 0.6340\n",
      "Epoch 10/150\n",
      "375/375 [==============================] - 0s 352us/sample - loss: 0.6310 - accuracy: 0.6640 - val_loss: 0.6302 - val_accuracy: 0.6804\n",
      "Epoch 11/150\n",
      "375/375 [==============================] - 0s 564us/sample - loss: 0.5892 - accuracy: 0.6933 - val_loss: 0.5912 - val_accuracy: 0.7268\n",
      "Epoch 12/150\n",
      "375/375 [==============================] - 0s 353us/sample - loss: 0.5529 - accuracy: 0.7493 - val_loss: 0.5564 - val_accuracy: 0.7784\n",
      "Epoch 13/150\n",
      "375/375 [==============================] - 0s 363us/sample - loss: 0.5206 - accuracy: 0.7707 - val_loss: 0.5255 - val_accuracy: 0.7990\n",
      "Epoch 14/150\n",
      "375/375 [==============================] - 0s 407us/sample - loss: 0.4915 - accuracy: 0.7947 - val_loss: 0.4985 - val_accuracy: 0.8041\n",
      "Epoch 15/150\n",
      "375/375 [==============================] - 0s 397us/sample - loss: 0.4668 - accuracy: 0.8080 - val_loss: 0.4736 - val_accuracy: 0.8144\n",
      "Epoch 16/150\n",
      "375/375 [==============================] - 0s 238us/sample - loss: 0.4441 - accuracy: 0.8213 - val_loss: 0.4514 - val_accuracy: 0.8247\n",
      "Epoch 17/150\n",
      "375/375 [==============================] - 0s 197us/sample - loss: 0.4240 - accuracy: 0.8320 - val_loss: 0.4313 - val_accuracy: 0.8247\n",
      "Epoch 18/150\n",
      "375/375 [==============================] - 0s 303us/sample - loss: 0.4058 - accuracy: 0.8453 - val_loss: 0.4131 - val_accuracy: 0.8351\n",
      "Epoch 19/150\n",
      "375/375 [==============================] - 0s 393us/sample - loss: 0.3890 - accuracy: 0.8667 - val_loss: 0.3967 - val_accuracy: 0.8454\n",
      "Epoch 20/150\n",
      "375/375 [==============================] - 0s 307us/sample - loss: 0.3741 - accuracy: 0.8800 - val_loss: 0.3815 - val_accuracy: 0.8557\n",
      "Epoch 21/150\n",
      "375/375 [==============================] - 0s 311us/sample - loss: 0.3606 - accuracy: 0.8853 - val_loss: 0.3674 - val_accuracy: 0.8660\n",
      "Epoch 22/150\n",
      "375/375 [==============================] - 0s 345us/sample - loss: 0.3479 - accuracy: 0.8907 - val_loss: 0.3546 - val_accuracy: 0.8763\n",
      "Epoch 23/150\n",
      "375/375 [==============================] - 0s 424us/sample - loss: 0.3363 - accuracy: 0.8933 - val_loss: 0.3430 - val_accuracy: 0.8763\n",
      "Epoch 24/150\n",
      "375/375 [==============================] - 0s 303us/sample - loss: 0.3260 - accuracy: 0.8933 - val_loss: 0.3317 - val_accuracy: 0.8763\n",
      "Epoch 25/150\n",
      "375/375 [==============================] - 0s 401us/sample - loss: 0.3160 - accuracy: 0.8960 - val_loss: 0.3215 - val_accuracy: 0.8763\n",
      "Epoch 26/150\n",
      "375/375 [==============================] - 0s 316us/sample - loss: 0.3069 - accuracy: 0.8987 - val_loss: 0.3121 - val_accuracy: 0.8866\n",
      "Epoch 27/150\n",
      "375/375 [==============================] - 0s 341us/sample - loss: 0.2983 - accuracy: 0.9013 - val_loss: 0.3032 - val_accuracy: 0.9072\n",
      "Epoch 28/150\n",
      "375/375 [==============================] - 0s 342us/sample - loss: 0.2903 - accuracy: 0.9040 - val_loss: 0.2948 - val_accuracy: 0.9072\n",
      "Epoch 29/150\n",
      "375/375 [==============================] - 0s 349us/sample - loss: 0.2828 - accuracy: 0.9093 - val_loss: 0.2870 - val_accuracy: 0.9124\n",
      "Epoch 30/150\n",
      "375/375 [==============================] - 0s 363us/sample - loss: 0.2759 - accuracy: 0.9093 - val_loss: 0.2796 - val_accuracy: 0.9124\n",
      "Epoch 31/150\n",
      "375/375 [==============================] - 0s 417us/sample - loss: 0.2693 - accuracy: 0.9147 - val_loss: 0.2726 - val_accuracy: 0.9175\n",
      "Epoch 32/150\n",
      "375/375 [==============================] - 0s 406us/sample - loss: 0.2631 - accuracy: 0.9173 - val_loss: 0.2661 - val_accuracy: 0.9227\n",
      "Epoch 33/150\n",
      "375/375 [==============================] - 0s 409us/sample - loss: 0.2573 - accuracy: 0.9173 - val_loss: 0.2598 - val_accuracy: 0.9227\n",
      "Epoch 34/150\n",
      "375/375 [==============================] - 0s 262us/sample - loss: 0.2518 - accuracy: 0.9173 - val_loss: 0.2538 - val_accuracy: 0.9330\n",
      "Epoch 35/150\n",
      "375/375 [==============================] - 0s 279us/sample - loss: 0.2464 - accuracy: 0.9253 - val_loss: 0.2484 - val_accuracy: 0.9330\n",
      "Epoch 36/150\n",
      "375/375 [==============================] - 0s 276us/sample - loss: 0.2416 - accuracy: 0.9307 - val_loss: 0.2430 - val_accuracy: 0.9330\n",
      "Epoch 37/150\n",
      "375/375 [==============================] - 0s 164us/sample - loss: 0.2368 - accuracy: 0.9333 - val_loss: 0.2380 - val_accuracy: 0.9330\n",
      "Epoch 38/150\n",
      "375/375 [==============================] - 0s 196us/sample - loss: 0.2324 - accuracy: 0.9333 - val_loss: 0.2331 - val_accuracy: 0.9330\n",
      "Epoch 39/150\n",
      "375/375 [==============================] - 0s 198us/sample - loss: 0.2281 - accuracy: 0.9333 - val_loss: 0.2285 - val_accuracy: 0.9330\n",
      "Epoch 40/150\n",
      "375/375 [==============================] - 0s 151us/sample - loss: 0.2240 - accuracy: 0.9360 - val_loss: 0.2243 - val_accuracy: 0.9330\n",
      "Epoch 41/150\n",
      "375/375 [==============================] - 0s 177us/sample - loss: 0.2203 - accuracy: 0.9387 - val_loss: 0.2199 - val_accuracy: 0.9330\n",
      "Epoch 42/150\n",
      "375/375 [==============================] - 0s 177us/sample - loss: 0.2165 - accuracy: 0.9387 - val_loss: 0.2159 - val_accuracy: 0.9433\n",
      "Epoch 43/150\n",
      "375/375 [==============================] - 0s 276us/sample - loss: 0.2129 - accuracy: 0.9387 - val_loss: 0.2121 - val_accuracy: 0.9433\n",
      "Epoch 44/150\n",
      "375/375 [==============================] - 0s 188us/sample - loss: 0.2095 - accuracy: 0.9387 - val_loss: 0.2084 - val_accuracy: 0.9433\n",
      "Epoch 45/150\n",
      "375/375 [==============================] - 0s 210us/sample - loss: 0.2063 - accuracy: 0.9413 - val_loss: 0.2048 - val_accuracy: 0.9433\n",
      "Epoch 46/150\n",
      "375/375 [==============================] - 0s 291us/sample - loss: 0.2032 - accuracy: 0.9413 - val_loss: 0.2015 - val_accuracy: 0.9485\n",
      "Epoch 47/150\n",
      "375/375 [==============================] - 0s 213us/sample - loss: 0.2002 - accuracy: 0.9440 - val_loss: 0.1983 - val_accuracy: 0.9485\n",
      "Epoch 48/150\n",
      "375/375 [==============================] - 0s 218us/sample - loss: 0.1973 - accuracy: 0.9467 - val_loss: 0.1952 - val_accuracy: 0.9485\n",
      "Epoch 49/150\n",
      "375/375 [==============================] - 0s 196us/sample - loss: 0.1946 - accuracy: 0.9493 - val_loss: 0.1922 - val_accuracy: 0.9485\n",
      "Epoch 50/150\n",
      "375/375 [==============================] - 0s 152us/sample - loss: 0.1920 - accuracy: 0.9493 - val_loss: 0.1893 - val_accuracy: 0.9485\n",
      "Epoch 51/150\n",
      "375/375 [==============================] - 0s 161us/sample - loss: 0.1893 - accuracy: 0.9493 - val_loss: 0.1865 - val_accuracy: 0.9485\n",
      "Epoch 52/150\n",
      "375/375 [==============================] - 0s 181us/sample - loss: 0.1870 - accuracy: 0.9520 - val_loss: 0.1837 - val_accuracy: 0.9536\n",
      "Epoch 53/150\n",
      "375/375 [==============================] - 0s 228us/sample - loss: 0.1845 - accuracy: 0.9573 - val_loss: 0.1811 - val_accuracy: 0.9536\n",
      "Epoch 54/150\n",
      "375/375 [==============================] - 0s 135us/sample - loss: 0.1822 - accuracy: 0.9573 - val_loss: 0.1786 - val_accuracy: 0.9536\n",
      "Epoch 55/150\n",
      "375/375 [==============================] - 0s 212us/sample - loss: 0.1800 - accuracy: 0.9573 - val_loss: 0.1762 - val_accuracy: 0.9536\n",
      "Epoch 56/150\n"
     ]
    },
    {
     "name": "stdout",
     "output_type": "stream",
     "text": [
      "375/375 [==============================] - 0s 183us/sample - loss: 0.1779 - accuracy: 0.9573 - val_loss: 0.1738 - val_accuracy: 0.9536\n",
      "Epoch 57/150\n",
      "375/375 [==============================] - 0s 238us/sample - loss: 0.1759 - accuracy: 0.9573 - val_loss: 0.1715 - val_accuracy: 0.9536\n",
      "Epoch 58/150\n",
      "375/375 [==============================] - 0s 159us/sample - loss: 0.1738 - accuracy: 0.9600 - val_loss: 0.1694 - val_accuracy: 0.9536\n",
      "Epoch 59/150\n",
      "375/375 [==============================] - 0s 149us/sample - loss: 0.1719 - accuracy: 0.9600 - val_loss: 0.1672 - val_accuracy: 0.9485\n",
      "Epoch 60/150\n",
      "375/375 [==============================] - 0s 173us/sample - loss: 0.1701 - accuracy: 0.9600 - val_loss: 0.1652 - val_accuracy: 0.9485\n",
      "Epoch 61/150\n",
      "375/375 [==============================] - 0s 140us/sample - loss: 0.1683 - accuracy: 0.9600 - val_loss: 0.1632 - val_accuracy: 0.9485\n",
      "Epoch 62/150\n",
      "375/375 [==============================] - 0s 151us/sample - loss: 0.1665 - accuracy: 0.9600 - val_loss: 0.1613 - val_accuracy: 0.9485\n",
      "Epoch 63/150\n",
      "375/375 [==============================] - 0s 174us/sample - loss: 0.1648 - accuracy: 0.9600 - val_loss: 0.1594 - val_accuracy: 0.9485\n",
      "Epoch 64/150\n",
      "375/375 [==============================] - 0s 130us/sample - loss: 0.1632 - accuracy: 0.9627 - val_loss: 0.1575 - val_accuracy: 0.9485\n",
      "Epoch 65/150\n",
      "375/375 [==============================] - 0s 199us/sample - loss: 0.1615 - accuracy: 0.9627 - val_loss: 0.1558 - val_accuracy: 0.9485\n",
      "Epoch 66/150\n",
      "375/375 [==============================] - 0s 144us/sample - loss: 0.1600 - accuracy: 0.9627 - val_loss: 0.1541 - val_accuracy: 0.9485\n",
      "Epoch 67/150\n",
      "375/375 [==============================] - 0s 180us/sample - loss: 0.1585 - accuracy: 0.9627 - val_loss: 0.1524 - val_accuracy: 0.9536\n",
      "Epoch 68/150\n",
      "375/375 [==============================] - 0s 174us/sample - loss: 0.1570 - accuracy: 0.9627 - val_loss: 0.1508 - val_accuracy: 0.9536\n",
      "Epoch 69/150\n",
      "375/375 [==============================] - 0s 176us/sample - loss: 0.1556 - accuracy: 0.9627 - val_loss: 0.1492 - val_accuracy: 0.9536\n",
      "Epoch 70/150\n",
      "375/375 [==============================] - 0s 162us/sample - loss: 0.1542 - accuracy: 0.9627 - val_loss: 0.1476 - val_accuracy: 0.9536\n",
      "Epoch 71/150\n",
      "375/375 [==============================] - 0s 148us/sample - loss: 0.1528 - accuracy: 0.9627 - val_loss: 0.1461 - val_accuracy: 0.9536\n",
      "Epoch 72/150\n",
      "375/375 [==============================] - 0s 178us/sample - loss: 0.1515 - accuracy: 0.9627 - val_loss: 0.1447 - val_accuracy: 0.9588\n",
      "Epoch 73/150\n",
      "375/375 [==============================] - 0s 207us/sample - loss: 0.1502 - accuracy: 0.9627 - val_loss: 0.1433 - val_accuracy: 0.9588\n",
      "Epoch 74/150\n",
      "375/375 [==============================] - 0s 184us/sample - loss: 0.1490 - accuracy: 0.9627 - val_loss: 0.1419 - val_accuracy: 0.9588\n",
      "Epoch 75/150\n",
      "375/375 [==============================] - 0s 184us/sample - loss: 0.1478 - accuracy: 0.9627 - val_loss: 0.1406 - val_accuracy: 0.9588\n",
      "Epoch 76/150\n",
      "375/375 [==============================] - 0s 192us/sample - loss: 0.1466 - accuracy: 0.9627 - val_loss: 0.1393 - val_accuracy: 0.9588\n",
      "Epoch 77/150\n",
      "375/375 [==============================] - 0s 238us/sample - loss: 0.1454 - accuracy: 0.9627 - val_loss: 0.1380 - val_accuracy: 0.9588\n",
      "Epoch 78/150\n",
      "375/375 [==============================] - 0s 196us/sample - loss: 0.1443 - accuracy: 0.9627 - val_loss: 0.1367 - val_accuracy: 0.9588\n",
      "Epoch 79/150\n",
      "375/375 [==============================] - 0s 167us/sample - loss: 0.1432 - accuracy: 0.9627 - val_loss: 0.1355 - val_accuracy: 0.9588\n",
      "Epoch 80/150\n",
      "375/375 [==============================] - 0s 157us/sample - loss: 0.1422 - accuracy: 0.9627 - val_loss: 0.1344 - val_accuracy: 0.9588\n",
      "Epoch 81/150\n",
      "375/375 [==============================] - 0s 228us/sample - loss: 0.1411 - accuracy: 0.9627 - val_loss: 0.1332 - val_accuracy: 0.9588\n",
      "Epoch 82/150\n",
      "375/375 [==============================] - 0s 227us/sample - loss: 0.1401 - accuracy: 0.9627 - val_loss: 0.1320 - val_accuracy: 0.9639\n",
      "Epoch 83/150\n",
      "375/375 [==============================] - 0s 135us/sample - loss: 0.1391 - accuracy: 0.9627 - val_loss: 0.1309 - val_accuracy: 0.9639\n",
      "Epoch 84/150\n",
      "375/375 [==============================] - 0s 226us/sample - loss: 0.1380 - accuracy: 0.9627 - val_loss: 0.1298 - val_accuracy: 0.9639\n",
      "Epoch 85/150\n",
      "375/375 [==============================] - 0s 143us/sample - loss: 0.1371 - accuracy: 0.9653 - val_loss: 0.1288 - val_accuracy: 0.9639\n",
      "Epoch 86/150\n",
      "375/375 [==============================] - 0s 196us/sample - loss: 0.1361 - accuracy: 0.9653 - val_loss: 0.1277 - val_accuracy: 0.9639\n",
      "Epoch 87/150\n",
      "375/375 [==============================] - 0s 157us/sample - loss: 0.1352 - accuracy: 0.9653 - val_loss: 0.1267 - val_accuracy: 0.9691\n",
      "Epoch 88/150\n",
      "375/375 [==============================] - 0s 222us/sample - loss: 0.1343 - accuracy: 0.9653 - val_loss: 0.1257 - val_accuracy: 0.9691\n",
      "Epoch 89/150\n",
      "375/375 [==============================] - 0s 184us/sample - loss: 0.1334 - accuracy: 0.9653 - val_loss: 0.1247 - val_accuracy: 0.9691\n",
      "Epoch 90/150\n",
      "375/375 [==============================] - 0s 145us/sample - loss: 0.1326 - accuracy: 0.9653 - val_loss: 0.1238 - val_accuracy: 0.9691\n",
      "Epoch 91/150\n",
      "375/375 [==============================] - 0s 147us/sample - loss: 0.1318 - accuracy: 0.9653 - val_loss: 0.1228 - val_accuracy: 0.9691\n",
      "Epoch 92/150\n",
      "375/375 [==============================] - 0s 191us/sample - loss: 0.1309 - accuracy: 0.9653 - val_loss: 0.1219 - val_accuracy: 0.9691\n",
      "Epoch 93/150\n",
      "375/375 [==============================] - 0s 176us/sample - loss: 0.1301 - accuracy: 0.9653 - val_loss: 0.1210 - val_accuracy: 0.9691\n",
      "Epoch 94/150\n",
      "375/375 [==============================] - 0s 207us/sample - loss: 0.1293 - accuracy: 0.9653 - val_loss: 0.1202 - val_accuracy: 0.9691\n",
      "Epoch 95/150\n",
      "375/375 [==============================] - 0s 202us/sample - loss: 0.1285 - accuracy: 0.9653 - val_loss: 0.1193 - val_accuracy: 0.9691\n",
      "Epoch 96/150\n",
      "375/375 [==============================] - 0s 171us/sample - loss: 0.1277 - accuracy: 0.9653 - val_loss: 0.1185 - val_accuracy: 0.9742\n",
      "Epoch 97/150\n",
      "375/375 [==============================] - 0s 146us/sample - loss: 0.1269 - accuracy: 0.9680 - val_loss: 0.1177 - val_accuracy: 0.9742\n",
      "Epoch 98/150\n",
      "375/375 [==============================] - 0s 165us/sample - loss: 0.1262 - accuracy: 0.9680 - val_loss: 0.1168 - val_accuracy: 0.9742\n",
      "Epoch 99/150\n",
      "375/375 [==============================] - 0s 217us/sample - loss: 0.1255 - accuracy: 0.9680 - val_loss: 0.1160 - val_accuracy: 0.9742\n",
      "Epoch 100/150\n",
      "375/375 [==============================] - 0s 205us/sample - loss: 0.1248 - accuracy: 0.9680 - val_loss: 0.1152 - val_accuracy: 0.9742\n",
      "Epoch 101/150\n",
      "375/375 [==============================] - 0s 272us/sample - loss: 0.1241 - accuracy: 0.9680 - val_loss: 0.1145 - val_accuracy: 0.9742\n",
      "Epoch 102/150\n",
      "375/375 [==============================] - 0s 238us/sample - loss: 0.1234 - accuracy: 0.9680 - val_loss: 0.1137 - val_accuracy: 0.9742\n",
      "Epoch 103/150\n",
      "375/375 [==============================] - 0s 395us/sample - loss: 0.1227 - accuracy: 0.9680 - val_loss: 0.1130 - val_accuracy: 0.9742\n",
      "Epoch 104/150\n",
      "375/375 [==============================] - 0s 299us/sample - loss: 0.1221 - accuracy: 0.9680 - val_loss: 0.1123 - val_accuracy: 0.9742\n",
      "Epoch 105/150\n",
      "375/375 [==============================] - 0s 221us/sample - loss: 0.1214 - accuracy: 0.9680 - val_loss: 0.1115 - val_accuracy: 0.9742\n",
      "Epoch 106/150\n",
      "375/375 [==============================] - 0s 207us/sample - loss: 0.1207 - accuracy: 0.9680 - val_loss: 0.1108 - val_accuracy: 0.9742\n",
      "Epoch 107/150\n",
      "375/375 [==============================] - 0s 266us/sample - loss: 0.1201 - accuracy: 0.9707 - val_loss: 0.1102 - val_accuracy: 0.9742\n",
      "Epoch 108/150\n",
      "375/375 [==============================] - 0s 142us/sample - loss: 0.1195 - accuracy: 0.9707 - val_loss: 0.1095 - val_accuracy: 0.9742\n",
      "Epoch 109/150\n",
      "375/375 [==============================] - 0s 100us/sample - loss: 0.1189 - accuracy: 0.9733 - val_loss: 0.1088 - val_accuracy: 0.9742\n",
      "Epoch 110/150\n",
      "375/375 [==============================] - 0s 101us/sample - loss: 0.1183 - accuracy: 0.9733 - val_loss: 0.1081 - val_accuracy: 0.9794\n",
      "Epoch 111/150\n"
     ]
    },
    {
     "name": "stdout",
     "output_type": "stream",
     "text": [
      "375/375 [==============================] - 0s 91us/sample - loss: 0.1177 - accuracy: 0.9733 - val_loss: 0.1075 - val_accuracy: 0.9742\n",
      "Epoch 112/150\n",
      "375/375 [==============================] - 0s 95us/sample - loss: 0.1171 - accuracy: 0.9733 - val_loss: 0.1069 - val_accuracy: 0.9794\n",
      "Epoch 113/150\n",
      "375/375 [==============================] - 0s 95us/sample - loss: 0.1165 - accuracy: 0.9733 - val_loss: 0.1063 - val_accuracy: 0.9794\n",
      "Epoch 114/150\n",
      "375/375 [==============================] - 0s 96us/sample - loss: 0.1160 - accuracy: 0.9733 - val_loss: 0.1056 - val_accuracy: 0.9794\n",
      "Epoch 115/150\n",
      "375/375 [==============================] - 0s 93us/sample - loss: 0.1154 - accuracy: 0.9733 - val_loss: 0.1050 - val_accuracy: 0.9794\n",
      "Epoch 116/150\n",
      "375/375 [==============================] - 0s 111us/sample - loss: 0.1149 - accuracy: 0.9733 - val_loss: 0.1045 - val_accuracy: 0.9794\n",
      "Epoch 117/150\n",
      "375/375 [==============================] - 0s 97us/sample - loss: 0.1143 - accuracy: 0.9733 - val_loss: 0.1039 - val_accuracy: 0.9794\n",
      "Epoch 118/150\n",
      "375/375 [==============================] - 0s 94us/sample - loss: 0.1138 - accuracy: 0.9733 - val_loss: 0.1033 - val_accuracy: 0.9794\n",
      "Epoch 119/150\n",
      "375/375 [==============================] - 0s 114us/sample - loss: 0.1132 - accuracy: 0.9733 - val_loss: 0.1027 - val_accuracy: 0.9794\n",
      "Epoch 120/150\n",
      "375/375 [==============================] - 0s 93us/sample - loss: 0.1127 - accuracy: 0.9733 - val_loss: 0.1022 - val_accuracy: 0.9794\n",
      "Epoch 121/150\n",
      "375/375 [==============================] - 0s 93us/sample - loss: 0.1122 - accuracy: 0.9733 - val_loss: 0.1016 - val_accuracy: 0.9794\n",
      "Epoch 122/150\n",
      "375/375 [==============================] - 0s 92us/sample - loss: 0.1118 - accuracy: 0.9733 - val_loss: 0.1011 - val_accuracy: 0.9794\n",
      "Epoch 123/150\n",
      "375/375 [==============================] - 0s 96us/sample - loss: 0.1112 - accuracy: 0.9733 - val_loss: 0.1006 - val_accuracy: 0.9794\n",
      "Epoch 124/150\n",
      "375/375 [==============================] - 0s 93us/sample - loss: 0.1108 - accuracy: 0.9733 - val_loss: 0.1000 - val_accuracy: 0.9794\n",
      "Epoch 125/150\n",
      "375/375 [==============================] - 0s 100us/sample - loss: 0.1103 - accuracy: 0.9733 - val_loss: 0.0995 - val_accuracy: 0.9794\n",
      "Epoch 126/150\n",
      "375/375 [==============================] - 0s 97us/sample - loss: 0.1098 - accuracy: 0.9733 - val_loss: 0.0990 - val_accuracy: 0.9794\n",
      "Epoch 127/150\n",
      "375/375 [==============================] - 0s 90us/sample - loss: 0.1094 - accuracy: 0.9733 - val_loss: 0.0985 - val_accuracy: 0.9794\n",
      "Epoch 128/150\n",
      "375/375 [==============================] - 0s 101us/sample - loss: 0.1089 - accuracy: 0.9733 - val_loss: 0.0980 - val_accuracy: 0.9794\n",
      "Epoch 129/150\n",
      "375/375 [==============================] - 0s 90us/sample - loss: 0.1084 - accuracy: 0.9733 - val_loss: 0.0976 - val_accuracy: 0.9794\n",
      "Epoch 130/150\n",
      "375/375 [==============================] - 0s 96us/sample - loss: 0.1080 - accuracy: 0.9733 - val_loss: 0.0971 - val_accuracy: 0.9794\n",
      "Epoch 131/150\n",
      "375/375 [==============================] - 0s 92us/sample - loss: 0.1075 - accuracy: 0.9733 - val_loss: 0.0966 - val_accuracy: 0.9794\n",
      "Epoch 132/150\n",
      "375/375 [==============================] - 0s 103us/sample - loss: 0.1071 - accuracy: 0.9733 - val_loss: 0.0961 - val_accuracy: 0.9794\n",
      "Epoch 133/150\n",
      "375/375 [==============================] - 0s 106us/sample - loss: 0.1067 - accuracy: 0.9733 - val_loss: 0.0957 - val_accuracy: 0.9794\n",
      "Epoch 134/150\n",
      "375/375 [==============================] - 0s 108us/sample - loss: 0.1062 - accuracy: 0.9760 - val_loss: 0.0953 - val_accuracy: 0.9794\n",
      "Epoch 135/150\n",
      "375/375 [==============================] - 0s 91us/sample - loss: 0.1058 - accuracy: 0.9760 - val_loss: 0.0948 - val_accuracy: 0.9794\n",
      "Epoch 136/150\n",
      "375/375 [==============================] - 0s 95us/sample - loss: 0.1055 - accuracy: 0.9760 - val_loss: 0.0944 - val_accuracy: 0.9794\n",
      "Epoch 137/150\n",
      "375/375 [==============================] - 0s 94us/sample - loss: 0.1050 - accuracy: 0.9760 - val_loss: 0.0939 - val_accuracy: 0.9794\n",
      "Epoch 138/150\n",
      "375/375 [==============================] - 0s 90us/sample - loss: 0.1046 - accuracy: 0.9760 - val_loss: 0.0935 - val_accuracy: 0.9794\n",
      "Epoch 139/150\n",
      "375/375 [==============================] - 0s 90us/sample - loss: 0.1042 - accuracy: 0.9760 - val_loss: 0.0931 - val_accuracy: 0.9794\n",
      "Epoch 140/150\n",
      "375/375 [==============================] - 0s 94us/sample - loss: 0.1038 - accuracy: 0.9760 - val_loss: 0.0927 - val_accuracy: 0.9794\n",
      "Epoch 141/150\n",
      "375/375 [==============================] - 0s 123us/sample - loss: 0.1034 - accuracy: 0.9760 - val_loss: 0.0923 - val_accuracy: 0.9794\n",
      "Epoch 142/150\n",
      "375/375 [==============================] - 0s 119us/sample - loss: 0.1031 - accuracy: 0.9760 - val_loss: 0.0919 - val_accuracy: 0.9794\n",
      "Epoch 143/150\n",
      "375/375 [==============================] - 0s 148us/sample - loss: 0.1027 - accuracy: 0.9760 - val_loss: 0.0915 - val_accuracy: 0.9794\n",
      "Epoch 144/150\n",
      "375/375 [==============================] - 0s 136us/sample - loss: 0.1023 - accuracy: 0.9760 - val_loss: 0.0911 - val_accuracy: 0.9794\n",
      "Epoch 145/150\n",
      "375/375 [==============================] - 0s 155us/sample - loss: 0.1019 - accuracy: 0.9760 - val_loss: 0.0907 - val_accuracy: 0.9794\n",
      "Epoch 146/150\n",
      "375/375 [==============================] - 0s 142us/sample - loss: 0.1016 - accuracy: 0.9760 - val_loss: 0.0903 - val_accuracy: 0.9794\n",
      "Epoch 147/150\n",
      "375/375 [==============================] - 0s 140us/sample - loss: 0.1012 - accuracy: 0.9760 - val_loss: 0.0899 - val_accuracy: 0.9794\n",
      "Epoch 148/150\n",
      "375/375 [==============================] - 0s 132us/sample - loss: 0.1009 - accuracy: 0.9760 - val_loss: 0.0896 - val_accuracy: 0.9794\n",
      "Epoch 149/150\n",
      "375/375 [==============================] - 0s 186us/sample - loss: 0.1005 - accuracy: 0.9760 - val_loss: 0.0892 - val_accuracy: 0.9794\n",
      "Epoch 150/150\n",
      "375/375 [==============================] - 0s 213us/sample - loss: 0.1002 - accuracy: 0.9760 - val_loss: 0.0889 - val_accuracy: 0.9845\n"
     ]
    },
    {
     "data": {
      "text/plain": [
       "<tensorflow.python.keras.callbacks.History at 0x7ff9b80e9048>"
      ]
     },
     "execution_count": 11,
     "metadata": {},
     "output_type": "execute_result"
    }
   ],
   "source": [
    "# here we fit our model to the training data\n",
    "model.fit(X_train, y_train, validation_data=(X_test, y_test), epochs=150)"
   ]
  },
  {
   "cell_type": "code",
   "execution_count": 12,
   "metadata": {},
   "outputs": [
    {
     "data": {
      "text/plain": [
       "<matplotlib.legend.Legend at 0x7ff9b028d908>"
      ]
     },
     "execution_count": 12,
     "metadata": {},
     "output_type": "execute_result"
    },
    {
     "data": {
      "image/png": "[encoded data removed]",
      "text/plain": [
       "<Figure size 432x288 with 1 Axes>"
      ]
     },
     "metadata": {
      "needs_background": "light"
     },
     "output_type": "display_data"
    }
   ],
   "source": [
    "# let's check how our model performs\n",
    "plt.plot(model.history.history['loss'], label='loss')\n",
    "plt.plot(model.history.history['val_loss'], label='val_loss')\n",
    "plt.legend()"
   ]
  },
  {
   "cell_type": "code",
   "execution_count": 13,
   "metadata": {},
   "outputs": [
    {
     "data": {
      "text/plain": [
       "[<matplotlib.lines.Line2D at 0x7ff9b020fef0>]"
      ]
     },
     "execution_count": 13,
     "metadata": {},
     "output_type": "execute_result"
    },
    {
     "data": {
      "image/png": "[encoded data removed]",
      "text/plain": [
       "<Figure size 432x288 with 1 Axes>"
      ]
     },
     "metadata": {
      "needs_background": "light"
     },
     "output_type": "display_data"
    }
   ],
   "source": [
    "# we can also take a look at the model accuracy\n",
    "plt.plot(model.history.history['accuracy'], label='accuracy')\n",
    "plt.plot(model.history.history['val_accuracy'], label='val_accuracy')\n",
    "# plt.legend()"
   ]
  },
  {
   "cell_type": "markdown",
   "metadata": {},
   "source": [
    "Model Prediction\n",
    "\n",
    "The approach to evaluate the performance of a classification (logistic regression) model."
   ]
  },
  {
   "cell_type": "code",
   "execution_count": 15,
   "metadata": {},
   "outputs": [
    {
     "name": "stdout",
     "output_type": "stream",
     "text": [
      "[[8.4183317e-01]\n",
      " [3.3457377e-03]\n",
      " [4.9813088e-02]\n",
      " [9.8220164e-01]\n",
      " [9.9472624e-01]\n",
      " [5.7467639e-07]\n",
      " [1.2377832e-05]\n",
      " [1.3682492e-01]\n",
      " [4.4308853e-01]\n",
      " [9.8502928e-01]\n",
      " [9.0632737e-01]\n",
      " [9.9857800e-02]\n",
      " [9.5475900e-01]\n",
      " [2.0398939e-01]\n",
      " [9.8240775e-01]\n",
      " [2.5793028e-03]\n",
      " [9.7790658e-01]\n",
      " [9.9800557e-01]\n",
      " [9.9982065e-01]\n",
      " [2.5682396e-04]\n",
      " [7.8492874e-01]\n",
      " [9.4023168e-01]\n",
      " [8.0568252e-06]\n",
      " [9.9808407e-01]\n",
      " [9.8019183e-01]\n",
      " [9.5017761e-01]\n",
      " [9.7905868e-01]\n",
      " [9.6541172e-01]\n",
      " [9.6715194e-01]\n",
      " [8.6142786e-04]\n",
      " [9.7903204e-01]\n",
      " [9.9593508e-01]\n",
      " [9.8171449e-01]\n",
      " [9.6744967e-01]\n",
      " [9.9534339e-01]\n",
      " [9.8377419e-01]\n",
      " [3.8271931e-01]\n",
      " [9.8736459e-01]\n",
      " [8.0624688e-03]\n",
      " [8.4440440e-01]\n",
      " [9.9415344e-01]\n",
      " [5.0947681e-02]\n",
      " [9.5897049e-01]\n",
      " [9.8896468e-01]\n",
      " [8.7265015e-01]\n",
      " [9.6036196e-01]\n",
      " [9.9238831e-01]\n",
      " [9.9364328e-01]\n",
      " [9.1791546e-01]\n",
      " [9.8511446e-01]\n",
      " [9.5213298e-03]\n",
      " [9.8068725e-05]\n",
      " [5.8337718e-01]\n",
      " [8.5743439e-01]\n",
      " [9.9549198e-01]\n",
      " [9.6367890e-01]\n",
      " [9.9329972e-01]\n",
      " [2.6340862e-07]\n",
      " [2.6774058e-01]\n",
      " [9.9530530e-01]\n",
      " [9.5605391e-01]\n",
      " [1.9667130e-04]\n",
      " [4.2938023e-05]\n",
      " [9.0278852e-01]\n",
      " [9.9271637e-01]\n",
      " [8.5239524e-01]\n",
      " [2.9396287e-03]\n",
      " [5.3910862e-06]\n",
      " [9.8787326e-01]\n",
      " [9.1262084e-01]\n",
      " [5.7944879e-02]\n",
      " [2.5279228e-02]\n",
      " [9.6629077e-01]\n",
      " [2.6463386e-02]\n",
      " [9.9900812e-01]\n",
      " [9.1381401e-01]\n",
      " [9.3257976e-01]\n",
      " [4.7275004e-01]\n",
      " [9.9877113e-01]\n",
      " [9.1033572e-01]\n",
      " [3.7920643e-02]\n",
      " [9.9815124e-01]\n",
      " [3.2565436e-01]\n",
      " [5.0960396e-05]\n",
      " [8.2379438e-02]\n",
      " [9.2719849e-03]\n",
      " [5.7159876e-03]\n",
      " [6.7905071e-03]\n",
      " [9.8905480e-01]\n",
      " [9.6271408e-01]\n",
      " [9.5961380e-01]\n",
      " [6.6344523e-01]\n",
      " [8.3216864e-01]\n",
      " [9.9252898e-01]\n",
      " [9.9163401e-01]\n",
      " [9.9736375e-01]\n",
      " [4.3965410e-04]\n",
      " [7.2312128e-04]\n",
      " [9.9734062e-01]\n",
      " [1.6531836e-02]\n",
      " [6.0086761e-02]\n",
      " [9.9975663e-01]\n",
      " [2.3187548e-03]\n",
      " [9.1236327e-03]\n",
      " [9.7035319e-01]\n",
      " [9.1118956e-01]\n",
      " [9.5846736e-01]\n",
      " [1.6794154e-05]\n",
      " [7.0326513e-01]\n",
      " [9.0394336e-01]\n",
      " [6.0000654e-02]\n",
      " [9.8225582e-01]\n",
      " [5.3465855e-01]\n",
      " [1.7624715e-06]\n",
      " [8.9253384e-01]\n",
      " [2.8768961e-06]\n",
      " [9.9890399e-01]\n",
      " [9.3963253e-01]\n",
      " [9.9637491e-01]\n",
      " [3.9923103e-03]\n",
      " [9.5420271e-01]\n",
      " [9.8745918e-01]\n",
      " [9.6908343e-01]\n",
      " [4.1605919e-03]\n",
      " [8.4679997e-01]\n",
      " [2.1904320e-04]\n",
      " [1.5443673e-02]\n",
      " [9.9012202e-01]\n",
      " [9.8549277e-01]\n",
      " [4.8139202e-04]\n",
      " [3.7601363e-05]\n",
      " [3.8191964e-04]\n",
      " [9.6118474e-01]\n",
      " [9.8535675e-01]\n",
      " [9.4253665e-01]\n",
      " [1.6533062e-02]\n",
      " [6.0103518e-01]\n",
      " [9.7315234e-01]\n",
      " [5.0066847e-01]\n",
      " [3.7910342e-02]\n",
      " [9.7992951e-01]\n",
      " [7.5507771e-05]\n",
      " [9.9807942e-01]\n",
      " [9.9866998e-01]\n",
      " [4.9578846e-02]\n",
      " [9.7931021e-01]\n",
      " [1.0959259e-03]\n",
      " [9.8146545e-04]\n",
      " [4.6715733e-01]\n",
      " [9.9533695e-01]\n",
      " [3.1097755e-01]\n",
      " [9.9680221e-01]\n",
      " [9.9947590e-01]\n",
      " [9.0979099e-01]\n",
      " [9.8772347e-01]\n",
      " [7.8218910e-08]\n",
      " [3.6858912e-03]\n",
      " [9.9932325e-01]\n",
      " [9.4977516e-01]\n",
      " [9.9891651e-01]\n",
      " [9.9976212e-01]\n",
      " [9.9217284e-01]\n",
      " [9.9812263e-01]\n",
      " [9.7420496e-01]\n",
      " [3.5096693e-01]\n",
      " [9.8774987e-01]\n",
      " [9.8943746e-01]\n",
      " [6.3477838e-01]\n",
      " [9.9693608e-01]\n",
      " [8.1860296e-02]\n",
      " [8.8768899e-01]\n",
      " [9.8351592e-01]\n",
      " [9.8497230e-01]\n",
      " [6.9739723e-01]\n",
      " [9.7879487e-01]\n",
      " [8.9503926e-01]\n",
      " [3.4117699e-01]\n",
      " [7.9801345e-01]\n",
      " [9.8337388e-01]\n",
      " [8.9728349e-01]\n",
      " [8.3770502e-01]\n",
      " [9.4247264e-01]\n",
      " [9.9633622e-01]\n",
      " [1.4428282e-01]\n",
      " [1.3096059e-02]\n",
      " [1.5193671e-01]\n",
      " [3.9938837e-01]\n",
      " [8.6783665e-01]\n",
      " [5.1975172e-02]\n",
      " [9.8259509e-01]\n",
      " [3.6948040e-04]\n",
      " [9.5805436e-01]\n",
      " [9.7941130e-01]\n",
      " [9.9871266e-01]]\n"
     ]
    }
   ],
   "source": [
    "pred = model.predict(X_test)\n",
    "print(pred)"
   ]
  },
  {
   "cell_type": "code",
   "execution_count": 16,
   "metadata": {},
   "outputs": [
    {
     "name": "stdout",
     "output_type": "stream",
     "text": [
      "[1. 0. 0. 1. 1. 0. 0. 0. 0. 1. 1. 0. 1. 0. 1. 0. 1. 1. 1. 0. 1. 1. 0. 1.\n",
      " 1. 1. 1. 1. 1. 0. 1. 1. 1. 1. 1. 1. 0. 1. 0. 1. 1. 0. 1. 1. 1. 1. 1. 1.\n",
      " 1. 1. 0. 0. 1. 1. 1. 1. 1. 0. 0. 1. 1. 0. 0. 1. 1. 1. 0. 0. 1. 1. 0. 0.\n",
      " 1. 0. 1. 1. 1. 0. 1. 1. 0. 1. 0. 0. 0. 0. 0. 0. 1. 1. 1. 1. 1. 1. 1. 1.\n",
      " 0. 0. 1. 0. 0. 1. 0. 0. 1. 1. 1. 0. 1. 1. 0. 1. 1. 0. 1. 0. 1. 1. 1. 0.\n",
      " 1. 1. 1. 0. 1. 0. 0. 1. 1. 0. 0. 0. 1. 1. 1. 0. 1. 1. 1. 0. 1. 0. 1. 1.\n",
      " 0. 1. 0. 0. 0. 1. 0. 1. 1. 1. 1. 0. 0. 1. 1. 1. 1. 1. 1. 1. 0. 1. 1. 1.\n",
      " 1. 0. 1. 1. 1. 1. 1. 1. 0. 1. 1. 1. 1. 1. 1. 0. 0. 0. 0. 1. 0. 1. 0. 1.\n",
      " 1. 1.]\n"
     ]
    }
   ],
   "source": [
    "# to make the comparision, we should round and flatten the prediction\n",
    "pred = np.round(pred).flatten()\n",
    "print(pred)"
   ]
  },
  {
   "cell_type": "code",
   "execution_count": 17,
   "metadata": {},
   "outputs": [
    {
     "name": "stdout",
     "output_type": "stream",
     "text": [
      "194/194 [==============================] - 0s 60us/sample - loss: 0.0889 - accuracy: 0.9845\n",
      "the accuracy that we calculate: 0.9845360824742269\n",
      "what evaluate() returns: [0.08891732448270333, 0.9845361]\n"
     ]
    }
   ],
   "source": [
    "# calculate the accuracy of the model and \n",
    "# compare it to built-in evaluate() funtion\n",
    "acc = np.mean(pred == y_test)\n",
    "evalu = model.evaluate(X_test, y_test)\n",
    "print('the accuracy that we calculate: {}'.format(acc))\n",
    "print('what evaluate() returns: {}'.format(evalu))"
   ]
  },
  {
   "cell_type": "code",
   "execution_count": null,
   "metadata": {},
   "outputs": [],
   "source": []
  },
  {
   "cell_type": "code",
   "execution_count": null,
   "metadata": {},
   "outputs": [],
   "source": []
  }
 ],
 "metadata": {
  "kernelspec": {
   "display_name": "tensorflow",
   "language": "python",
   "name": "tensorflow"
  },
  "language_info": {
   "codemirror_mode": {
    "name": "ipython",
    "version": 3
   },
   "file_extension": ".py",
   "mimetype": "text/x-python",
   "name": "python",
   "nbconvert_exporter": "python",
   "pygments_lexer": "ipython3",
   "version": "3.5.2"
  },
  "toc": {
   "base_numbering": 1,
   "nav_menu": {},
   "number_sections": true,
   "sideBar": true,
   "skip_h1_title": false,
   "title_cell": "Table of Contents",
   "title_sidebar": "Contents",
   "toc_cell": false,
   "toc_position": {},
   "toc_section_display": true,
   "toc_window_display": false
  }
 },
 "nbformat": 4,
 "nbformat_minor": 4
}
