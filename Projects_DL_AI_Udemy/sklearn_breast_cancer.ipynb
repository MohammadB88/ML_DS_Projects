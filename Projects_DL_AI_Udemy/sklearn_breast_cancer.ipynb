{
 "cells": [
  {
   "cell_type": "code",
   "execution_count": 1,
   "metadata": {},
   "outputs": [],
   "source": [
    "import numpy as np\n",
    "import pandas as pd\n",
    "import tensorflow as tf\n",
    "\n",
    "import seaborn as sns\n",
    "import matplotlib.pyplot as plt\n",
    "%matplotlib inline "
   ]
  },
  {
   "cell_type": "code",
   "execution_count": 2,
   "metadata": {},
   "outputs": [],
   "source": [
    "from sklearn.datasets import load_breast_cancer\n",
    "from sklearn.model_selection import train_test_split\n",
    "from sklearn.preprocessing import StandardScaler"
   ]
  },
  {
   "cell_type": "code",
   "execution_count": 3,
   "metadata": {},
   "outputs": [
    {
     "name": "stdout",
     "output_type": "stream",
     "text": [
      "<class 'sklearn.utils.Bunch'>\n",
      "\n",
      "############## data ###############\n",
      "\n",
      "[[1.799e+01 1.038e+01 1.228e+02 ... 2.654e-01 4.601e-01 1.189e-01]\n",
      " [2.057e+01 1.777e+01 1.329e+02 ... 1.860e-01 2.750e-01 8.902e-02]\n",
      " [1.969e+01 2.125e+01 1.300e+02 ... 2.430e-01 3.613e-01 8.758e-02]\n",
      " ...\n",
      " [1.660e+01 2.808e+01 1.083e+02 ... 1.418e-01 2.218e-01 7.820e-02]\n",
      " [2.060e+01 2.933e+01 1.401e+02 ... 2.650e-01 4.087e-01 1.240e-01]\n",
      " [7.760e+00 2.454e+01 4.792e+01 ... 0.000e+00 2.871e-01 7.039e-02]]\n",
      "\n",
      "############## feature names ###############\n",
      "\n",
      "['mean radius' 'mean texture' 'mean perimeter' 'mean area'\n",
      " 'mean smoothness' 'mean compactness' 'mean concavity'\n",
      " 'mean concave points' 'mean symmetry' 'mean fractal dimension'\n",
      " 'radius error' 'texture error' 'perimeter error' 'area error'\n",
      " 'smoothness error' 'compactness error' 'concavity error'\n",
      " 'concave points error' 'symmetry error' 'fractal dimension error'\n",
      " 'worst radius' 'worst texture' 'worst perimeter' 'worst area'\n",
      " 'worst smoothness' 'worst compactness' 'worst concavity'\n",
      " 'worst concave points' 'worst symmetry' 'worst fractal dimension']\n"
     ]
    }
   ],
   "source": [
    "data = load_breast_cancer()\n",
    "print(type(data))\n",
    "print('\\n############## data ###############\\n')\n",
    "print(data.data)\n",
    "#print(dir(data))\n",
    "print('\\n############## feature names ###############\\n')\n",
    "print(data.feature_names)"
   ]
  },
  {
   "cell_type": "code",
   "execution_count": 4,
   "metadata": {},
   "outputs": [
    {
     "name": "stdout",
     "output_type": "stream",
     "text": [
      "['data', 'feature_names', 'target', 'target_names', 'filename', 'DESCR']\n"
     ]
    }
   ],
   "source": [
    "keys_data_lst = list(data.keys())\n",
    "print(keys_data_lst)"
   ]
  },
  {
   "cell_type": "code",
   "execution_count": 5,
   "metadata": {},
   "outputs": [
    {
     "name": "stdout",
     "output_type": "stream",
     "text": [
      "[1.245e+01 1.570e+01 8.257e+01 4.771e+02 1.278e-01 1.700e-01 1.578e-01\n",
      " 8.089e-02 2.087e-01 7.613e-02 3.345e-01 8.902e-01 2.217e+00 2.719e+01\n",
      " 7.510e-03 3.345e-02 3.672e-02 1.137e-02 2.165e-02 5.082e-03 1.547e+01\n",
      " 2.375e+01 1.034e+02 7.416e+02 1.791e-01 5.249e-01 5.355e-01 1.741e-01\n",
      " 3.985e-01 1.244e-01] 0\n"
     ]
    }
   ],
   "source": [
    "X = data.data\n",
    "y = data.target\n",
    "print(X[5], y[5])"
   ]
  },
  {
   "cell_type": "code",
   "execution_count": 6,
   "metadata": {},
   "outputs": [],
   "source": [
    "X_train, X_test, y_train, y_test = train_test_split(X, y, \n",
    "                                                    train_size=0.66, \n",
    "                                                    random_state=42)"
   ]
  },
  {
   "cell_type": "code",
   "execution_count": 7,
   "metadata": {},
   "outputs": [],
   "source": [
    "# feature scaling:\n",
    "# fit and transform the X_train\n",
    "# only transform the X_test (Not exposing X_train to the X_test)\n",
    "scaler = StandardScaler()\n",
    "X_train = scaler.fit_transform(X_train)\n",
    "X_test = scaler.transform(X_test)"
   ]
  },
  {
   "cell_type": "code",
   "execution_count": 13,
   "metadata": {},
   "outputs": [],
   "source": [
    "# here we create the model for linear classification\n",
    "input_shape = np.shape(X)[1]\n",
    "model = tf.keras.Sequential()\n",
    "model.add(tf.keras.Input(shape=(input_shape,)))\n",
    "model.add(tf.keras.layers.Dense(1, activation='sigmoid'))"
   ]
  },
  {
   "cell_type": "code",
   "execution_count": 14,
   "metadata": {},
   "outputs": [],
   "source": [
    "# here we compile our model\n",
    "model.compile(optimizer='adam',\n",
    "             loss='binary_crossentropy',\n",
    "             metrics=['accuracy'])"
   ]
  },
  {
   "cell_type": "code",
   "execution_count": 15,
   "metadata": {},
   "outputs": [
    {
     "data": {
      "text/plain": [
       "(375, 30)"
      ]
     },
     "execution_count": 15,
     "metadata": {},
     "output_type": "execute_result"
    }
   ],
   "source": [
    "np.shape(X_train)"
   ]
  },
  {
   "cell_type": "code",
   "execution_count": 16,
   "metadata": {},
   "outputs": [
    {
     "name": "stdout",
     "output_type": "stream",
     "text": [
      "Train on 375 samples, validate on 194 samples\n",
      "Epoch 1/150\n",
      "375/375 [==============================] - 1s 1ms/sample - loss: 0.6678 - accuracy: 0.7013 - val_loss: 0.6307 - val_accuracy: 0.7165\n",
      "Epoch 2/150\n",
      "375/375 [==============================] - 0s 155us/sample - loss: 0.6163 - accuracy: 0.7307 - val_loss: 0.5847 - val_accuracy: 0.7629\n",
      "Epoch 3/150\n",
      "375/375 [==============================] - 0s 109us/sample - loss: 0.5711 - accuracy: 0.7627 - val_loss: 0.5451 - val_accuracy: 0.7990\n",
      "Epoch 4/150\n",
      "375/375 [==============================] - 0s 181us/sample - loss: 0.5333 - accuracy: 0.7973 - val_loss: 0.5101 - val_accuracy: 0.8144\n",
      "Epoch 5/150\n",
      "375/375 [==============================] - 0s 135us/sample - loss: 0.4998 - accuracy: 0.8160 - val_loss: 0.4799 - val_accuracy: 0.8196\n",
      "Epoch 6/150\n",
      "375/375 [==============================] - 0s 162us/sample - loss: 0.4701 - accuracy: 0.8320 - val_loss: 0.4536 - val_accuracy: 0.8402\n",
      "Epoch 7/150\n",
      "375/375 [==============================] - 0s 151us/sample - loss: 0.4448 - accuracy: 0.8453 - val_loss: 0.4298 - val_accuracy: 0.8711\n",
      "Epoch 8/150\n",
      "375/375 [==============================] - 0s 120us/sample - loss: 0.4213 - accuracy: 0.8480 - val_loss: 0.4090 - val_accuracy: 0.8711\n",
      "Epoch 9/150\n",
      "375/375 [==============================] - 0s 144us/sample - loss: 0.4007 - accuracy: 0.8587 - val_loss: 0.3901 - val_accuracy: 0.8763\n",
      "Epoch 10/150\n",
      "375/375 [==============================] - 0s 187us/sample - loss: 0.3828 - accuracy: 0.8693 - val_loss: 0.3723 - val_accuracy: 0.8814\n",
      "Epoch 11/150\n",
      "375/375 [==============================] - 0s 162us/sample - loss: 0.3649 - accuracy: 0.8773 - val_loss: 0.3573 - val_accuracy: 0.8814\n",
      "Epoch 12/150\n",
      "375/375 [==============================] - 0s 127us/sample - loss: 0.3506 - accuracy: 0.8853 - val_loss: 0.3426 - val_accuracy: 0.8814\n",
      "Epoch 13/150\n",
      "375/375 [==============================] - 0s 176us/sample - loss: 0.3361 - accuracy: 0.8880 - val_loss: 0.3297 - val_accuracy: 0.8814\n",
      "Epoch 14/150\n",
      "375/375 [==============================] - 0s 129us/sample - loss: 0.3235 - accuracy: 0.8933 - val_loss: 0.3177 - val_accuracy: 0.8866\n",
      "Epoch 15/150\n",
      "375/375 [==============================] - 0s 125us/sample - loss: 0.3118 - accuracy: 0.8960 - val_loss: 0.3068 - val_accuracy: 0.8866\n",
      "Epoch 16/150\n",
      "375/375 [==============================] - 0s 140us/sample - loss: 0.3012 - accuracy: 0.9013 - val_loss: 0.2964 - val_accuracy: 0.8918\n",
      "Epoch 17/150\n",
      "375/375 [==============================] - 0s 149us/sample - loss: 0.2911 - accuracy: 0.9067 - val_loss: 0.2868 - val_accuracy: 0.8918\n",
      "Epoch 18/150\n",
      "375/375 [==============================] - 0s 139us/sample - loss: 0.2819 - accuracy: 0.9120 - val_loss: 0.2778 - val_accuracy: 0.8918\n",
      "Epoch 19/150\n",
      "375/375 [==============================] - 0s 202us/sample - loss: 0.2738 - accuracy: 0.9173 - val_loss: 0.2692 - val_accuracy: 0.8969\n",
      "Epoch 20/150\n",
      "375/375 [==============================] - 0s 143us/sample - loss: 0.2656 - accuracy: 0.9173 - val_loss: 0.2614 - val_accuracy: 0.9021\n",
      "Epoch 21/150\n",
      "375/375 [==============================] - 0s 147us/sample - loss: 0.2584 - accuracy: 0.9173 - val_loss: 0.2539 - val_accuracy: 0.9021\n",
      "Epoch 22/150\n",
      "375/375 [==============================] - 0s 152us/sample - loss: 0.2512 - accuracy: 0.9200 - val_loss: 0.2473 - val_accuracy: 0.9072\n",
      "Epoch 23/150\n",
      "375/375 [==============================] - 0s 222us/sample - loss: 0.2448 - accuracy: 0.9200 - val_loss: 0.2409 - val_accuracy: 0.9072\n",
      "Epoch 24/150\n",
      "375/375 [==============================] - 0s 200us/sample - loss: 0.2390 - accuracy: 0.9253 - val_loss: 0.2346 - val_accuracy: 0.9072\n",
      "Epoch 25/150\n",
      "375/375 [==============================] - 0s 178us/sample - loss: 0.2335 - accuracy: 0.9253 - val_loss: 0.2285 - val_accuracy: 0.9072\n",
      "Epoch 26/150\n",
      "375/375 [==============================] - 0s 325us/sample - loss: 0.2277 - accuracy: 0.9227 - val_loss: 0.2232 - val_accuracy: 0.9072\n",
      "Epoch 27/150\n",
      "375/375 [==============================] - 0s 219us/sample - loss: 0.2227 - accuracy: 0.9253 - val_loss: 0.2179 - val_accuracy: 0.9124\n",
      "Epoch 28/150\n",
      "375/375 [==============================] - 0s 212us/sample - loss: 0.2177 - accuracy: 0.9253 - val_loss: 0.2131 - val_accuracy: 0.9175\n",
      "Epoch 29/150\n",
      "375/375 [==============================] - 0s 209us/sample - loss: 0.2134 - accuracy: 0.9307 - val_loss: 0.2084 - val_accuracy: 0.9175\n",
      "Epoch 30/150\n",
      "375/375 [==============================] - 0s 227us/sample - loss: 0.2089 - accuracy: 0.9307 - val_loss: 0.2039 - val_accuracy: 0.9227\n",
      "Epoch 31/150\n",
      "375/375 [==============================] - 0s 262us/sample - loss: 0.2049 - accuracy: 0.9307 - val_loss: 0.1992 - val_accuracy: 0.9227\n",
      "Epoch 32/150\n",
      "375/375 [==============================] - 0s 181us/sample - loss: 0.2009 - accuracy: 0.9280 - val_loss: 0.1950 - val_accuracy: 0.9227\n",
      "Epoch 33/150\n",
      "375/375 [==============================] - 0s 300us/sample - loss: 0.1970 - accuracy: 0.9307 - val_loss: 0.1910 - val_accuracy: 0.9278\n",
      "Epoch 34/150\n",
      "375/375 [==============================] - 0s 160us/sample - loss: 0.1935 - accuracy: 0.9307 - val_loss: 0.1871 - val_accuracy: 0.9278\n",
      "Epoch 35/150\n",
      "375/375 [==============================] - 0s 114us/sample - loss: 0.1901 - accuracy: 0.9333 - val_loss: 0.1835 - val_accuracy: 0.9330\n",
      "Epoch 36/150\n",
      "375/375 [==============================] - 0s 136us/sample - loss: 0.1868 - accuracy: 0.9333 - val_loss: 0.1800 - val_accuracy: 0.9330\n",
      "Epoch 37/150\n",
      "375/375 [==============================] - 0s 161us/sample - loss: 0.1836 - accuracy: 0.9307 - val_loss: 0.1769 - val_accuracy: 0.9330\n",
      "Epoch 38/150\n",
      "375/375 [==============================] - 0s 265us/sample - loss: 0.1807 - accuracy: 0.9333 - val_loss: 0.1735 - val_accuracy: 0.9330\n",
      "Epoch 39/150\n",
      "375/375 [==============================] - 0s 275us/sample - loss: 0.1777 - accuracy: 0.9333 - val_loss: 0.1706 - val_accuracy: 0.9330\n",
      "Epoch 40/150\n",
      "375/375 [==============================] - 0s 174us/sample - loss: 0.1751 - accuracy: 0.9333 - val_loss: 0.1675 - val_accuracy: 0.9381\n",
      "Epoch 41/150\n",
      "375/375 [==============================] - 0s 199us/sample - loss: 0.1724 - accuracy: 0.9360 - val_loss: 0.1646 - val_accuracy: 0.9433\n",
      "Epoch 42/150\n",
      "375/375 [==============================] - 0s 176us/sample - loss: 0.1699 - accuracy: 0.9360 - val_loss: 0.1619 - val_accuracy: 0.9433\n",
      "Epoch 43/150\n",
      "375/375 [==============================] - 0s 191us/sample - loss: 0.1674 - accuracy: 0.9360 - val_loss: 0.1592 - val_accuracy: 0.9433\n",
      "Epoch 44/150\n",
      "375/375 [==============================] - 0s 182us/sample - loss: 0.1649 - accuracy: 0.9360 - val_loss: 0.1569 - val_accuracy: 0.9433\n",
      "Epoch 45/150\n",
      "375/375 [==============================] - 0s 190us/sample - loss: 0.1629 - accuracy: 0.9387 - val_loss: 0.1542 - val_accuracy: 0.9485\n",
      "Epoch 46/150\n",
      "375/375 [==============================] - 0s 234us/sample - loss: 0.1606 - accuracy: 0.9413 - val_loss: 0.1517 - val_accuracy: 0.9485\n",
      "Epoch 47/150\n",
      "375/375 [==============================] - 0s 225us/sample - loss: 0.1583 - accuracy: 0.9413 - val_loss: 0.1496 - val_accuracy: 0.9485\n",
      "Epoch 48/150\n",
      "375/375 [==============================] - 0s 277us/sample - loss: 0.1564 - accuracy: 0.9440 - val_loss: 0.1473 - val_accuracy: 0.9485\n",
      "Epoch 49/150\n",
      "375/375 [==============================] - 0s 197us/sample - loss: 0.1543 - accuracy: 0.9440 - val_loss: 0.1452 - val_accuracy: 0.9485\n",
      "Epoch 50/150\n",
      "375/375 [==============================] - 0s 205us/sample - loss: 0.1525 - accuracy: 0.9467 - val_loss: 0.1430 - val_accuracy: 0.9485\n",
      "Epoch 51/150\n",
      "375/375 [==============================] - 0s 223us/sample - loss: 0.1506 - accuracy: 0.9493 - val_loss: 0.1410 - val_accuracy: 0.9485\n",
      "Epoch 52/150\n",
      "375/375 [==============================] - 0s 191us/sample - loss: 0.1487 - accuracy: 0.9493 - val_loss: 0.1391 - val_accuracy: 0.9485\n",
      "Epoch 53/150\n",
      "375/375 [==============================] - 0s 203us/sample - loss: 0.1470 - accuracy: 0.9493 - val_loss: 0.1372 - val_accuracy: 0.9485\n",
      "Epoch 54/150\n",
      "375/375 [==============================] - 0s 182us/sample - loss: 0.1452 - accuracy: 0.9493 - val_loss: 0.1355 - val_accuracy: 0.9485\n",
      "Epoch 55/150\n",
      "375/375 [==============================] - 0s 180us/sample - loss: 0.1438 - accuracy: 0.9493 - val_loss: 0.1336 - val_accuracy: 0.9485\n",
      "Epoch 56/150\n",
      "375/375 [==============================] - 0s 208us/sample - loss: 0.1421 - accuracy: 0.9493 - val_loss: 0.1320 - val_accuracy: 0.9536\n",
      "Epoch 57/150\n",
      "375/375 [==============================] - 0s 196us/sample - loss: 0.1406 - accuracy: 0.9493 - val_loss: 0.1304 - val_accuracy: 0.9536\n",
      "Epoch 58/150\n",
      "375/375 [==============================] - 0s 209us/sample - loss: 0.1391 - accuracy: 0.9493 - val_loss: 0.1288 - val_accuracy: 0.9536\n",
      "Epoch 59/150\n",
      "375/375 [==============================] - 0s 179us/sample - loss: 0.1377 - accuracy: 0.9493 - val_loss: 0.1272 - val_accuracy: 0.9536\n",
      "Epoch 60/150\n",
      "375/375 [==============================] - 0s 171us/sample - loss: 0.1363 - accuracy: 0.9493 - val_loss: 0.1256 - val_accuracy: 0.9536\n",
      "Epoch 61/150\n",
      "375/375 [==============================] - 0s 155us/sample - loss: 0.1348 - accuracy: 0.9493 - val_loss: 0.1243 - val_accuracy: 0.9536\n",
      "Epoch 62/150\n",
      "375/375 [==============================] - 0s 193us/sample - loss: 0.1336 - accuracy: 0.9520 - val_loss: 0.1227 - val_accuracy: 0.9536\n",
      "Epoch 63/150\n",
      "375/375 [==============================] - 0s 145us/sample - loss: 0.1323 - accuracy: 0.9520 - val_loss: 0.1213 - val_accuracy: 0.9536\n",
      "Epoch 64/150\n",
      "375/375 [==============================] - 0s 179us/sample - loss: 0.1311 - accuracy: 0.9520 - val_loss: 0.1200 - val_accuracy: 0.9536\n",
      "Epoch 65/150\n",
      "375/375 [==============================] - 0s 158us/sample - loss: 0.1299 - accuracy: 0.9520 - val_loss: 0.1186 - val_accuracy: 0.9536\n",
      "Epoch 66/150\n",
      "375/375 [==============================] - 0s 170us/sample - loss: 0.1287 - accuracy: 0.9573 - val_loss: 0.1174 - val_accuracy: 0.9588\n",
      "Epoch 67/150\n",
      "375/375 [==============================] - 0s 178us/sample - loss: 0.1276 - accuracy: 0.9573 - val_loss: 0.1162 - val_accuracy: 0.9588\n",
      "Epoch 68/150\n",
      "375/375 [==============================] - 0s 161us/sample - loss: 0.1265 - accuracy: 0.9573 - val_loss: 0.1151 - val_accuracy: 0.9588\n",
      "Epoch 69/150\n",
      "375/375 [==============================] - 0s 180us/sample - loss: 0.1255 - accuracy: 0.9573 - val_loss: 0.1139 - val_accuracy: 0.9691\n",
      "Epoch 70/150\n",
      "375/375 [==============================] - 0s 184us/sample - loss: 0.1244 - accuracy: 0.9573 - val_loss: 0.1128 - val_accuracy: 0.9691\n",
      "Epoch 71/150\n",
      "375/375 [==============================] - 0s 315us/sample - loss: 0.1234 - accuracy: 0.9573 - val_loss: 0.1117 - val_accuracy: 0.9691\n",
      "Epoch 72/150\n",
      "375/375 [==============================] - 0s 253us/sample - loss: 0.1225 - accuracy: 0.9573 - val_loss: 0.1106 - val_accuracy: 0.9691\n",
      "Epoch 73/150\n",
      "375/375 [==============================] - 0s 191us/sample - loss: 0.1216 - accuracy: 0.9573 - val_loss: 0.1096 - val_accuracy: 0.9691\n",
      "Epoch 74/150\n",
      "375/375 [==============================] - 0s 201us/sample - loss: 0.1206 - accuracy: 0.9627 - val_loss: 0.1087 - val_accuracy: 0.9691\n",
      "Epoch 75/150\n",
      "375/375 [==============================] - 0s 133us/sample - loss: 0.1198 - accuracy: 0.9627 - val_loss: 0.1077 - val_accuracy: 0.9691\n",
      "Epoch 76/150\n",
      "375/375 [==============================] - 0s 170us/sample - loss: 0.1189 - accuracy: 0.9627 - val_loss: 0.1067 - val_accuracy: 0.9691\n",
      "Epoch 77/150\n",
      "375/375 [==============================] - 0s 145us/sample - loss: 0.1181 - accuracy: 0.9627 - val_loss: 0.1059 - val_accuracy: 0.9691\n",
      "Epoch 78/150\n",
      "375/375 [==============================] - 0s 140us/sample - loss: 0.1173 - accuracy: 0.9627 - val_loss: 0.1050 - val_accuracy: 0.9691\n",
      "Epoch 79/150\n",
      "375/375 [==============================] - 0s 151us/sample - loss: 0.1165 - accuracy: 0.9627 - val_loss: 0.1041 - val_accuracy: 0.9691\n",
      "Epoch 80/150\n",
      "375/375 [==============================] - 0s 159us/sample - loss: 0.1157 - accuracy: 0.9653 - val_loss: 0.1033 - val_accuracy: 0.9691\n",
      "Epoch 81/150\n",
      "375/375 [==============================] - 0s 170us/sample - loss: 0.1149 - accuracy: 0.9653 - val_loss: 0.1025 - val_accuracy: 0.9691\n",
      "Epoch 82/150\n",
      "375/375 [==============================] - 0s 177us/sample - loss: 0.1142 - accuracy: 0.9707 - val_loss: 0.1016 - val_accuracy: 0.9691\n",
      "Epoch 83/150\n",
      "375/375 [==============================] - 0s 145us/sample - loss: 0.1134 - accuracy: 0.9707 - val_loss: 0.1009 - val_accuracy: 0.9691\n",
      "Epoch 84/150\n",
      "375/375 [==============================] - 0s 258us/sample - loss: 0.1128 - accuracy: 0.9707 - val_loss: 0.1001 - val_accuracy: 0.9742\n",
      "Epoch 85/150\n",
      "375/375 [==============================] - 0s 229us/sample - loss: 0.1121 - accuracy: 0.9707 - val_loss: 0.0993 - val_accuracy: 0.9794\n",
      "Epoch 86/150\n",
      "375/375 [==============================] - 0s 219us/sample - loss: 0.1114 - accuracy: 0.9707 - val_loss: 0.0986 - val_accuracy: 0.9794\n",
      "Epoch 87/150\n",
      "375/375 [==============================] - 0s 225us/sample - loss: 0.1107 - accuracy: 0.9707 - val_loss: 0.0979 - val_accuracy: 0.9794\n",
      "Epoch 88/150\n",
      "375/375 [==============================] - 0s 194us/sample - loss: 0.1101 - accuracy: 0.9707 - val_loss: 0.0972 - val_accuracy: 0.9794\n",
      "Epoch 89/150\n",
      "375/375 [==============================] - 0s 210us/sample - loss: 0.1095 - accuracy: 0.9707 - val_loss: 0.0965 - val_accuracy: 0.9794\n",
      "Epoch 90/150\n",
      "375/375 [==============================] - 0s 183us/sample - loss: 0.1089 - accuracy: 0.9707 - val_loss: 0.0958 - val_accuracy: 0.9794\n",
      "Epoch 91/150\n",
      "375/375 [==============================] - 0s 218us/sample - loss: 0.1082 - accuracy: 0.9707 - val_loss: 0.0952 - val_accuracy: 0.9794\n",
      "Epoch 92/150\n",
      "375/375 [==============================] - 0s 272us/sample - loss: 0.1077 - accuracy: 0.9707 - val_loss: 0.0945 - val_accuracy: 0.9794\n",
      "Epoch 93/150\n",
      "375/375 [==============================] - 0s 258us/sample - loss: 0.1071 - accuracy: 0.9707 - val_loss: 0.0939 - val_accuracy: 0.9794\n",
      "Epoch 94/150\n",
      "375/375 [==============================] - 0s 217us/sample - loss: 0.1066 - accuracy: 0.9707 - val_loss: 0.0933 - val_accuracy: 0.9794\n",
      "Epoch 95/150\n",
      "375/375 [==============================] - 0s 243us/sample - loss: 0.1060 - accuracy: 0.9707 - val_loss: 0.0927 - val_accuracy: 0.9794\n",
      "Epoch 96/150\n",
      "375/375 [==============================] - 0s 208us/sample - loss: 0.1054 - accuracy: 0.9707 - val_loss: 0.0922 - val_accuracy: 0.9794\n",
      "Epoch 97/150\n",
      "375/375 [==============================] - 0s 118us/sample - loss: 0.1049 - accuracy: 0.9707 - val_loss: 0.0915 - val_accuracy: 0.9794\n",
      "Epoch 98/150\n",
      "375/375 [==============================] - 0s 165us/sample - loss: 0.1044 - accuracy: 0.9707 - val_loss: 0.0910 - val_accuracy: 0.9794\n",
      "Epoch 99/150\n",
      "375/375 [==============================] - 0s 202us/sample - loss: 0.1039 - accuracy: 0.9733 - val_loss: 0.0905 - val_accuracy: 0.9794\n",
      "Epoch 100/150\n",
      "375/375 [==============================] - 0s 180us/sample - loss: 0.1034 - accuracy: 0.9733 - val_loss: 0.0900 - val_accuracy: 0.9845\n",
      "Epoch 101/150\n",
      "375/375 [==============================] - 0s 198us/sample - loss: 0.1029 - accuracy: 0.9733 - val_loss: 0.0894 - val_accuracy: 0.9845\n",
      "Epoch 102/150\n",
      "375/375 [==============================] - 0s 223us/sample - loss: 0.1024 - accuracy: 0.9733 - val_loss: 0.0889 - val_accuracy: 0.9845\n",
      "Epoch 103/150\n",
      "375/375 [==============================] - 0s 290us/sample - loss: 0.1019 - accuracy: 0.9733 - val_loss: 0.0884 - val_accuracy: 0.9845\n",
      "Epoch 104/150\n",
      "375/375 [==============================] - 0s 282us/sample - loss: 0.1015 - accuracy: 0.9733 - val_loss: 0.0879 - val_accuracy: 0.9845\n",
      "Epoch 105/150\n",
      "375/375 [==============================] - 0s 151us/sample - loss: 0.1010 - accuracy: 0.9733 - val_loss: 0.0874 - val_accuracy: 0.9845\n",
      "Epoch 106/150\n",
      "375/375 [==============================] - 0s 129us/sample - loss: 0.1006 - accuracy: 0.9733 - val_loss: 0.0869 - val_accuracy: 0.9845\n",
      "Epoch 107/150\n",
      "375/375 [==============================] - 0s 140us/sample - loss: 0.1001 - accuracy: 0.9733 - val_loss: 0.0865 - val_accuracy: 0.9845\n",
      "Epoch 108/150\n",
      "375/375 [==============================] - 0s 147us/sample - loss: 0.0997 - accuracy: 0.9733 - val_loss: 0.0860 - val_accuracy: 0.9845\n",
      "Epoch 109/150\n",
      "375/375 [==============================] - 0s 125us/sample - loss: 0.0993 - accuracy: 0.9733 - val_loss: 0.0856 - val_accuracy: 0.9845\n",
      "Epoch 110/150\n",
      "375/375 [==============================] - 0s 158us/sample - loss: 0.0989 - accuracy: 0.9733 - val_loss: 0.0852 - val_accuracy: 0.9845\n",
      "Epoch 111/150\n"
     ]
    },
    {
     "name": "stdout",
     "output_type": "stream",
     "text": [
      "375/375 [==============================] - 0s 155us/sample - loss: 0.0984 - accuracy: 0.9733 - val_loss: 0.0848 - val_accuracy: 0.9845\n",
      "Epoch 112/150\n",
      "375/375 [==============================] - 0s 199us/sample - loss: 0.0981 - accuracy: 0.9733 - val_loss: 0.0843 - val_accuracy: 0.9845\n",
      "Epoch 113/150\n",
      "375/375 [==============================] - 0s 140us/sample - loss: 0.0977 - accuracy: 0.9733 - val_loss: 0.0838 - val_accuracy: 0.9845\n",
      "Epoch 114/150\n",
      "375/375 [==============================] - 0s 251us/sample - loss: 0.0973 - accuracy: 0.9733 - val_loss: 0.0834 - val_accuracy: 0.9845\n",
      "Epoch 115/150\n",
      "375/375 [==============================] - 0s 184us/sample - loss: 0.0969 - accuracy: 0.9733 - val_loss: 0.0831 - val_accuracy: 0.9845\n",
      "Epoch 116/150\n",
      "375/375 [==============================] - 0s 249us/sample - loss: 0.0965 - accuracy: 0.9733 - val_loss: 0.0826 - val_accuracy: 0.9845\n",
      "Epoch 117/150\n",
      "375/375 [==============================] - 0s 247us/sample - loss: 0.0961 - accuracy: 0.9733 - val_loss: 0.0823 - val_accuracy: 0.9845\n",
      "Epoch 118/150\n",
      "375/375 [==============================] - 0s 293us/sample - loss: 0.0958 - accuracy: 0.9733 - val_loss: 0.0820 - val_accuracy: 0.9845\n",
      "Epoch 119/150\n",
      "375/375 [==============================] - 0s 159us/sample - loss: 0.0954 - accuracy: 0.9733 - val_loss: 0.0816 - val_accuracy: 0.9845\n",
      "Epoch 120/150\n",
      "375/375 [==============================] - 0s 212us/sample - loss: 0.0951 - accuracy: 0.9733 - val_loss: 0.0812 - val_accuracy: 0.9845\n",
      "Epoch 121/150\n",
      "375/375 [==============================] - 0s 255us/sample - loss: 0.0947 - accuracy: 0.9733 - val_loss: 0.0808 - val_accuracy: 0.9845\n",
      "Epoch 122/150\n",
      "375/375 [==============================] - 0s 178us/sample - loss: 0.0943 - accuracy: 0.9733 - val_loss: 0.0805 - val_accuracy: 0.9845\n",
      "Epoch 123/150\n",
      "375/375 [==============================] - 0s 122us/sample - loss: 0.0940 - accuracy: 0.9733 - val_loss: 0.0801 - val_accuracy: 0.9845\n",
      "Epoch 124/150\n",
      "375/375 [==============================] - 0s 161us/sample - loss: 0.0937 - accuracy: 0.9733 - val_loss: 0.0798 - val_accuracy: 0.9845\n",
      "Epoch 125/150\n",
      "375/375 [==============================] - 0s 167us/sample - loss: 0.0933 - accuracy: 0.9733 - val_loss: 0.0794 - val_accuracy: 0.9845\n",
      "Epoch 126/150\n",
      "375/375 [==============================] - 0s 177us/sample - loss: 0.0930 - accuracy: 0.9733 - val_loss: 0.0791 - val_accuracy: 0.9845\n",
      "Epoch 127/150\n",
      "375/375 [==============================] - 0s 169us/sample - loss: 0.0927 - accuracy: 0.9733 - val_loss: 0.0788 - val_accuracy: 0.9845\n",
      "Epoch 128/150\n",
      "375/375 [==============================] - 0s 152us/sample - loss: 0.0924 - accuracy: 0.9733 - val_loss: 0.0785 - val_accuracy: 0.9845\n",
      "Epoch 129/150\n",
      "375/375 [==============================] - 0s 175us/sample - loss: 0.0921 - accuracy: 0.9733 - val_loss: 0.0782 - val_accuracy: 0.9845\n",
      "Epoch 130/150\n",
      "375/375 [==============================] - 0s 171us/sample - loss: 0.0917 - accuracy: 0.9733 - val_loss: 0.0778 - val_accuracy: 0.9845\n",
      "Epoch 131/150\n",
      "375/375 [==============================] - 0s 164us/sample - loss: 0.0914 - accuracy: 0.9733 - val_loss: 0.0776 - val_accuracy: 0.9845\n",
      "Epoch 132/150\n",
      "375/375 [==============================] - 0s 177us/sample - loss: 0.0912 - accuracy: 0.9733 - val_loss: 0.0772 - val_accuracy: 0.9845\n",
      "Epoch 133/150\n",
      "375/375 [==============================] - 0s 182us/sample - loss: 0.0909 - accuracy: 0.9733 - val_loss: 0.0769 - val_accuracy: 0.9845\n",
      "Epoch 134/150\n",
      "375/375 [==============================] - 0s 211us/sample - loss: 0.0906 - accuracy: 0.9733 - val_loss: 0.0766 - val_accuracy: 0.9845\n",
      "Epoch 135/150\n",
      "375/375 [==============================] - 0s 126us/sample - loss: 0.0902 - accuracy: 0.9733 - val_loss: 0.0764 - val_accuracy: 0.9845\n",
      "Epoch 136/150\n",
      "375/375 [==============================] - 0s 174us/sample - loss: 0.0900 - accuracy: 0.9733 - val_loss: 0.0761 - val_accuracy: 0.9845\n",
      "Epoch 137/150\n",
      "375/375 [==============================] - 0s 194us/sample - loss: 0.0897 - accuracy: 0.9733 - val_loss: 0.0758 - val_accuracy: 0.9845\n",
      "Epoch 138/150\n",
      "375/375 [==============================] - 0s 198us/sample - loss: 0.0894 - accuracy: 0.9733 - val_loss: 0.0756 - val_accuracy: 0.9845\n",
      "Epoch 139/150\n",
      "375/375 [==============================] - 0s 128us/sample - loss: 0.0891 - accuracy: 0.9733 - val_loss: 0.0753 - val_accuracy: 0.9845\n",
      "Epoch 140/150\n",
      "375/375 [==============================] - 0s 183us/sample - loss: 0.0889 - accuracy: 0.9733 - val_loss: 0.0750 - val_accuracy: 0.9845\n",
      "Epoch 141/150\n",
      "375/375 [==============================] - 0s 165us/sample - loss: 0.0886 - accuracy: 0.9733 - val_loss: 0.0747 - val_accuracy: 0.9845\n",
      "Epoch 142/150\n",
      "375/375 [==============================] - 0s 181us/sample - loss: 0.0883 - accuracy: 0.9733 - val_loss: 0.0745 - val_accuracy: 0.9845\n",
      "Epoch 143/150\n",
      "375/375 [==============================] - 0s 148us/sample - loss: 0.0881 - accuracy: 0.9733 - val_loss: 0.0742 - val_accuracy: 0.9845\n",
      "Epoch 144/150\n",
      "375/375 [==============================] - 0s 162us/sample - loss: 0.0878 - accuracy: 0.9733 - val_loss: 0.0740 - val_accuracy: 0.9845\n",
      "Epoch 145/150\n",
      "375/375 [==============================] - 0s 178us/sample - loss: 0.0875 - accuracy: 0.9733 - val_loss: 0.0737 - val_accuracy: 0.9845\n",
      "Epoch 146/150\n",
      "375/375 [==============================] - 0s 141us/sample - loss: 0.0873 - accuracy: 0.9760 - val_loss: 0.0735 - val_accuracy: 0.9845\n",
      "Epoch 147/150\n",
      "375/375 [==============================] - 0s 176us/sample - loss: 0.0870 - accuracy: 0.9760 - val_loss: 0.0732 - val_accuracy: 0.9845\n",
      "Epoch 148/150\n",
      "375/375 [==============================] - 0s 155us/sample - loss: 0.0868 - accuracy: 0.9760 - val_loss: 0.0730 - val_accuracy: 0.9845\n",
      "Epoch 149/150\n",
      "375/375 [==============================] - 0s 163us/sample - loss: 0.0865 - accuracy: 0.9760 - val_loss: 0.0728 - val_accuracy: 0.9845\n",
      "Epoch 150/150\n",
      "375/375 [==============================] - 0s 162us/sample - loss: 0.0863 - accuracy: 0.9760 - val_loss: 0.0725 - val_accuracy: 0.9845\n"
     ]
    },
    {
     "data": {
      "text/plain": [
       "<tensorflow.python.keras.callbacks.History at 0x7f27c12c97f0>"
      ]
     },
     "execution_count": 16,
     "metadata": {},
     "output_type": "execute_result"
    }
   ],
   "source": [
    "# here we fit our model to the training data\n",
    "model.fit(X_train, y_train, validation_data=(X_test, y_test), epochs=150)"
   ]
  },
  {
   "cell_type": "code",
   "execution_count": 17,
   "metadata": {},
   "outputs": [
    {
     "data": {
      "text/plain": [
       "<matplotlib.legend.Legend at 0x7f27c1016860>"
      ]
     },
     "execution_count": 17,
     "metadata": {},
     "output_type": "execute_result"
    },
    {
     "data": {
      "image/png": "[encoded data removed]",
      "text/plain": [
       "<Figure size 432x288 with 1 Axes>"
      ]
     },
     "metadata": {
      "needs_background": "light"
     },
     "output_type": "display_data"
    }
   ],
   "source": [
    "# let's check how our model performs\n",
    "plt.plot(model.history.history['loss'], label='loss')\n",
    "plt.plot(model.history.history['val_loss'], label='val_loss')\n",
    "plt.legend()"
   ]
  },
  {
   "cell_type": "code",
   "execution_count": 18,
   "metadata": {},
   "outputs": [
    {
     "data": {
      "text/plain": [
       "<matplotlib.legend.Legend at 0x7f27c04cf828>"
      ]
     },
     "execution_count": 18,
     "metadata": {},
     "output_type": "execute_result"
    },
    {
     "data": {
      "image/png": "[encoded data removed]",
      "text/plain": [
       "<Figure size 432x288 with 1 Axes>"
      ]
     },
     "metadata": {
      "needs_background": "light"
     },
     "output_type": "display_data"
    }
   ],
   "source": [
    "# we can also take a look at the model accuracy\n",
    "plt.plot(model.history.history['accuracy'], label='accuracy')\n",
    "plt.plot(model.history.history['val_accuracy'], label='val_accuracy')\n",
    "# plt.legend()"
   ]
  },
  {
   "cell_type": "markdown",
   "metadata": {},
   "source": [
    "Model Prediction"
   ]
  },
  {
   "cell_type": "code",
   "execution_count": null,
   "metadata": {},
   "outputs": [],
   "source": []
  },
  {
   "cell_type": "code",
   "execution_count": null,
   "metadata": {},
   "outputs": [],
   "source": []
  }
 ],
 "metadata": {
  "kernelspec": {
   "display_name": "tensorflow",
   "language": "python",
   "name": "tensorflow"
  },
  "language_info": {
   "codemirror_mode": {
    "name": "ipython",
    "version": 3
   },
   "file_extension": ".py",
   "mimetype": "text/x-python",
   "name": "python",
   "nbconvert_exporter": "python",
   "pygments_lexer": "ipython3",
   "version": "3.5.2"
  },
  "toc": {
   "base_numbering": 1,
   "nav_menu": {},
   "number_sections": true,
   "sideBar": true,
   "skip_h1_title": false,
   "title_cell": "Table of Contents",
   "title_sidebar": "Contents",
   "toc_cell": false,
   "toc_position": {},
   "toc_section_display": true,
   "toc_window_display": false
  }
 },
 "nbformat": 4,
 "nbformat_minor": 4
}
